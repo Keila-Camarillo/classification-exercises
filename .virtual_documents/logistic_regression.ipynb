import numpy as np
import pandas as pd

from sklearn.model_selection import train_test_split
from sklearn.linear_model import LogisticRegression
from sklearn.metrics import classification_report
from sklearn.metrics import confusion_matrix

# ignore warnings
import warnings
warnings.filterwarnings("ignore")

# matplotlib inline
import matplotlib.pyplot as plt
import seaborn as sns

from pydataset import data

import prepare as prep 
import acquire as acq
import modeling as mod


train, validate, test = prep.get_prep_split_titanic()


train


# train x & y
x_train1 = train[["age", "fare", "pclass"]]
x_train1["age"] = x_train1.age.fillna(29)
y_train1 = train.survived
baseline_prediction = y_train1.mode()


baseline_prediction


pd.Series(baseline_prediction[0], range(len(y_train1)))


# create function to establish baseline
def establish_baseline(y_train):
    #est baseline
    baseline_prediction = y_train.mode()
    
    #create series of prediction with that baseline val
    #same len as y_train
    y_train_pred = pd.Series((baseline_prediction[0]), range(len(y_train)))
    
    #compute the confusion matrix for Accuracy
    cm= confusion_matrix(y_train, y_train_pred)
    tn, fp, fn, tp = cm.ravel()
    
    accuracy = (tp+tn) / (tp+tn+fp+fn)
    
    return accuracy


# baseline accuracy
establish_baseline(y_train1)


x_validate1 = validate[["age", "fare", "pclass"]]
x_validate1["age"] = x_validate1.age.fillna(29)
y_validate1 = validate.survived


x_test1 = test[["age", "fare", "pclass"]]
x_test1["age"] = x_test1.age.fillna(29)
y_test1 = test.survived


logit1 = LogisticRegression()
logit1.fit(x_train1, y_train1)


# the coefficient weight
print('Coefficient: \n', logit1.coef_)
print('Intercept: \n', logit1.intercept_)



