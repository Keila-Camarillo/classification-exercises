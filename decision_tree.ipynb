{
 "cells": [
  {
   "cell_type": "code",
   "execution_count": 1,
   "id": "87972ef4",
   "metadata": {},
   "outputs": [],
   "source": [
    "import pandas as pd\n",
    "import numpy as np\n",
    "\n",
    "import matplotlib.pyplot as plt\n",
    "import seaborn as sns\n",
    "\n",
    "import acquire as acq\n",
    "import prepare as prep\n",
    "\n",
    "from sklearn.tree import DecisionTreeClassifier\n",
    "\n",
    "from sklearn.tree import plot_tree\n",
    "from sklearn.metrics import classification_report, confusion_matrix"
   ]
  },
  {
   "cell_type": "code",
   "execution_count": 2,
   "id": "98d931b8",
   "metadata": {},
   "outputs": [],
   "source": [
    "t_train, t_validate, t_test = prep.get_prep_split_titanic()"
   ]
  },
  {
   "cell_type": "code",
   "execution_count": 3,
   "id": "018b619b",
   "metadata": {},
   "outputs": [
    {
     "data": {
      "text/html": [
       "<div>\n",
       "<style scoped>\n",
       "    .dataframe tbody tr th:only-of-type {\n",
       "        vertical-align: middle;\n",
       "    }\n",
       "\n",
       "    .dataframe tbody tr th {\n",
       "        vertical-align: top;\n",
       "    }\n",
       "\n",
       "    .dataframe thead th {\n",
       "        text-align: right;\n",
       "    }\n",
       "</style>\n",
       "<table border=\"1\" class=\"dataframe\">\n",
       "  <thead>\n",
       "    <tr style=\"text-align: right;\">\n",
       "      <th></th>\n",
       "      <th>passenger_id</th>\n",
       "      <th>survived</th>\n",
       "      <th>pclass</th>\n",
       "      <th>sex</th>\n",
       "      <th>sibsp</th>\n",
       "      <th>parch</th>\n",
       "      <th>fare</th>\n",
       "      <th>embarked</th>\n",
       "      <th>alone</th>\n",
       "      <th>sex_male</th>\n",
       "      <th>embarked_Q</th>\n",
       "      <th>embarked_S</th>\n",
       "    </tr>\n",
       "  </thead>\n",
       "  <tbody>\n",
       "    <tr>\n",
       "      <th>455</th>\n",
       "      <td>455</td>\n",
       "      <td>1</td>\n",
       "      <td>3</td>\n",
       "      <td>male</td>\n",
       "      <td>0</td>\n",
       "      <td>0</td>\n",
       "      <td>7.8958</td>\n",
       "      <td>C</td>\n",
       "      <td>1</td>\n",
       "      <td>1</td>\n",
       "      <td>0</td>\n",
       "      <td>0</td>\n",
       "    </tr>\n",
       "    <tr>\n",
       "      <th>380</th>\n",
       "      <td>380</td>\n",
       "      <td>1</td>\n",
       "      <td>1</td>\n",
       "      <td>female</td>\n",
       "      <td>0</td>\n",
       "      <td>0</td>\n",
       "      <td>227.5250</td>\n",
       "      <td>C</td>\n",
       "      <td>1</td>\n",
       "      <td>0</td>\n",
       "      <td>0</td>\n",
       "      <td>0</td>\n",
       "    </tr>\n",
       "    <tr>\n",
       "      <th>492</th>\n",
       "      <td>492</td>\n",
       "      <td>0</td>\n",
       "      <td>1</td>\n",
       "      <td>male</td>\n",
       "      <td>0</td>\n",
       "      <td>0</td>\n",
       "      <td>30.5000</td>\n",
       "      <td>S</td>\n",
       "      <td>1</td>\n",
       "      <td>1</td>\n",
       "      <td>0</td>\n",
       "      <td>1</td>\n",
       "    </tr>\n",
       "    <tr>\n",
       "      <th>55</th>\n",
       "      <td>55</td>\n",
       "      <td>1</td>\n",
       "      <td>1</td>\n",
       "      <td>male</td>\n",
       "      <td>0</td>\n",
       "      <td>0</td>\n",
       "      <td>35.5000</td>\n",
       "      <td>S</td>\n",
       "      <td>1</td>\n",
       "      <td>1</td>\n",
       "      <td>0</td>\n",
       "      <td>1</td>\n",
       "    </tr>\n",
       "    <tr>\n",
       "      <th>243</th>\n",
       "      <td>243</td>\n",
       "      <td>0</td>\n",
       "      <td>3</td>\n",
       "      <td>male</td>\n",
       "      <td>0</td>\n",
       "      <td>0</td>\n",
       "      <td>7.1250</td>\n",
       "      <td>S</td>\n",
       "      <td>1</td>\n",
       "      <td>1</td>\n",
       "      <td>0</td>\n",
       "      <td>1</td>\n",
       "    </tr>\n",
       "    <tr>\n",
       "      <th>...</th>\n",
       "      <td>...</td>\n",
       "      <td>...</td>\n",
       "      <td>...</td>\n",
       "      <td>...</td>\n",
       "      <td>...</td>\n",
       "      <td>...</td>\n",
       "      <td>...</td>\n",
       "      <td>...</td>\n",
       "      <td>...</td>\n",
       "      <td>...</td>\n",
       "      <td>...</td>\n",
       "      <td>...</td>\n",
       "    </tr>\n",
       "    <tr>\n",
       "      <th>695</th>\n",
       "      <td>695</td>\n",
       "      <td>0</td>\n",
       "      <td>2</td>\n",
       "      <td>male</td>\n",
       "      <td>0</td>\n",
       "      <td>0</td>\n",
       "      <td>13.5000</td>\n",
       "      <td>S</td>\n",
       "      <td>1</td>\n",
       "      <td>1</td>\n",
       "      <td>0</td>\n",
       "      <td>1</td>\n",
       "    </tr>\n",
       "    <tr>\n",
       "      <th>128</th>\n",
       "      <td>128</td>\n",
       "      <td>1</td>\n",
       "      <td>3</td>\n",
       "      <td>female</td>\n",
       "      <td>1</td>\n",
       "      <td>1</td>\n",
       "      <td>22.3583</td>\n",
       "      <td>C</td>\n",
       "      <td>0</td>\n",
       "      <td>0</td>\n",
       "      <td>0</td>\n",
       "      <td>0</td>\n",
       "    </tr>\n",
       "    <tr>\n",
       "      <th>636</th>\n",
       "      <td>636</td>\n",
       "      <td>0</td>\n",
       "      <td>3</td>\n",
       "      <td>male</td>\n",
       "      <td>0</td>\n",
       "      <td>0</td>\n",
       "      <td>7.9250</td>\n",
       "      <td>S</td>\n",
       "      <td>1</td>\n",
       "      <td>1</td>\n",
       "      <td>0</td>\n",
       "      <td>1</td>\n",
       "    </tr>\n",
       "    <tr>\n",
       "      <th>222</th>\n",
       "      <td>222</td>\n",
       "      <td>0</td>\n",
       "      <td>3</td>\n",
       "      <td>male</td>\n",
       "      <td>0</td>\n",
       "      <td>0</td>\n",
       "      <td>8.0500</td>\n",
       "      <td>S</td>\n",
       "      <td>1</td>\n",
       "      <td>1</td>\n",
       "      <td>0</td>\n",
       "      <td>1</td>\n",
       "    </tr>\n",
       "    <tr>\n",
       "      <th>496</th>\n",
       "      <td>496</td>\n",
       "      <td>1</td>\n",
       "      <td>1</td>\n",
       "      <td>female</td>\n",
       "      <td>1</td>\n",
       "      <td>0</td>\n",
       "      <td>78.2667</td>\n",
       "      <td>C</td>\n",
       "      <td>0</td>\n",
       "      <td>0</td>\n",
       "      <td>0</td>\n",
       "      <td>0</td>\n",
       "    </tr>\n",
       "  </tbody>\n",
       "</table>\n",
       "<p>534 rows × 12 columns</p>\n",
       "</div>"
      ],
      "text/plain": [
       "     passenger_id  survived  pclass     sex  sibsp  parch      fare embarked  \\\n",
       "455           455         1       3    male      0      0    7.8958        C   \n",
       "380           380         1       1  female      0      0  227.5250        C   \n",
       "492           492         0       1    male      0      0   30.5000        S   \n",
       "55             55         1       1    male      0      0   35.5000        S   \n",
       "243           243         0       3    male      0      0    7.1250        S   \n",
       "..            ...       ...     ...     ...    ...    ...       ...      ...   \n",
       "695           695         0       2    male      0      0   13.5000        S   \n",
       "128           128         1       3  female      1      1   22.3583        C   \n",
       "636           636         0       3    male      0      0    7.9250        S   \n",
       "222           222         0       3    male      0      0    8.0500        S   \n",
       "496           496         1       1  female      1      0   78.2667        C   \n",
       "\n",
       "     alone  sex_male  embarked_Q  embarked_S  \n",
       "455      1         1           0           0  \n",
       "380      1         0           0           0  \n",
       "492      1         1           0           1  \n",
       "55       1         1           0           1  \n",
       "243      1         1           0           1  \n",
       "..     ...       ...         ...         ...  \n",
       "695      1         1           0           1  \n",
       "128      0         0           0           0  \n",
       "636      1         1           0           1  \n",
       "222      1         1           0           1  \n",
       "496      0         0           0           0  \n",
       "\n",
       "[534 rows x 12 columns]"
      ]
     },
     "execution_count": 3,
     "metadata": {},
     "output_type": "execute_result"
    }
   ],
   "source": [
    "t_train"
   ]
  },
  {
   "cell_type": "code",
   "execution_count": 4,
   "id": "36deb0a5",
   "metadata": {},
   "outputs": [
    {
     "name": "stdout",
     "output_type": "stream",
     "text": [
      "passenger_id\n",
      "survived\n",
      "pclass\n",
      "sex\n",
      "sibsp\n",
      "parch\n",
      "fare\n",
      "embarked\n",
      "alone\n"
     ]
    }
   ],
   "source": [
    "col_cat = [] #this is for my categorical varibles\n",
    "col_num = [] #this is for my numeric varibles\n",
    "\n",
    "for col in t_train.columns[:-3]:\n",
    "    print(col)\n",
    "    if t_train[col].dtype == 'O':\n",
    "        col_cat.append(col)\n",
    "    else:\n",
    "        if len(t_train[col].unique()) < 4: #making anything with less than 4 unique values a catergorical value\n",
    "            col_cat.append(col)\n",
    "        else:\n",
    "            col_num.append(col)"
   ]
  },
  {
   "cell_type": "code",
   "execution_count": 5,
   "id": "0fd532a8",
   "metadata": {},
   "outputs": [
    {
     "name": "stdout",
     "output_type": "stream",
     "text": [
      "SURVIVED\n",
      "0    329\n",
      "1    205\n",
      "Name: survived, dtype: int64\n",
      "0    0.616105\n",
      "1    0.383895\n",
      "Name: survived, dtype: float64\n"
     ]
    },
    {
     "data": {
      "image/png": "[encoded data removed]",
      "text/plain": [
       "<Figure size 640x480 with 1 Axes>"
      ]
     },
     "metadata": {},
     "output_type": "display_data"
    },
    {
     "name": "stdout",
     "output_type": "stream",
     "text": [
      "\n",
      "PCLASS\n",
      "3    295\n",
      "1    122\n",
      "2    117\n",
      "Name: pclass, dtype: int64\n",
      "3    0.552434\n",
      "1    0.228464\n",
      "2    0.219101\n",
      "Name: pclass, dtype: float64\n"
     ]
    },
    {
     "data": {
      "image/png": "[encoded data removed]",
      "text/plain": [
       "<Figure size 640x480 with 1 Axes>"
      ]
     },
     "metadata": {},
     "output_type": "display_data"
    },
    {
     "name": "stdout",
     "output_type": "stream",
     "text": [
      "\n",
      "SEX\n",
      "male      348\n",
      "female    186\n",
      "Name: sex, dtype: int64\n",
      "male      0.651685\n",
      "female    0.348315\n",
      "Name: sex, dtype: float64\n"
     ]
    },
    {
     "data": {
      "image/png": "[encoded data removed]",
      "text/plain": [
       "<Figure size 640x480 with 1 Axes>"
      ]
     },
     "metadata": {},
     "output_type": "display_data"
    },
    {
     "name": "stdout",
     "output_type": "stream",
     "text": [
      "\n",
      "EMBARKED\n",
      "S    381\n",
      "C    107\n",
      "Q     46\n",
      "Name: embarked, dtype: int64\n",
      "S    0.713483\n",
      "C    0.200375\n",
      "Q    0.086142\n",
      "Name: embarked, dtype: float64\n"
     ]
    },
    {
     "data": {
      "image/png": "[encoded data removed]",
      "text/plain": [
       "<Figure size 640x480 with 1 Axes>"
      ]
     },
     "metadata": {},
     "output_type": "display_data"
    },
    {
     "name": "stdout",
     "output_type": "stream",
     "text": [
      "\n",
      "ALONE\n",
      "1    335\n",
      "0    199\n",
      "Name: alone, dtype: int64\n",
      "1    0.627341\n",
      "0    0.372659\n",
      "Name: alone, dtype: float64\n"
     ]
    },
    {
     "data": {
      "image/png": "[encoded data removed]",
      "text/plain": [
       "<Figure size 640x480 with 1 Axes>"
      ]
     },
     "metadata": {},
     "output_type": "display_data"
    },
    {
     "name": "stdout",
     "output_type": "stream",
     "text": [
      "\n"
     ]
    }
   ],
   "source": [
    "for col in col_cat:\n",
    "    print(col.upper())\n",
    "    print(t_train[col].value_counts())\n",
    "    print(t_train[col].value_counts(normalize=True))\n",
    "    t_train[col].value_counts().plot.bar()\n",
    "    plt.show()\n",
    "    print()"
   ]
  },
  {
   "cell_type": "markdown",
   "id": "08ba83c9",
   "metadata": {},
   "source": [
    "Takeaways\n",
    "\n",
    "there are no noteable issues\n",
    "these are my categorical variables\n",
    "survived is my target variable, and has more people who didn't survive"
   ]
  },
  {
   "cell_type": "code",
   "execution_count": 6,
   "id": "2b8c7cb8",
   "metadata": {},
   "outputs": [
    {
     "name": "stdout",
     "output_type": "stream",
     "text": [
      "PASSENGER_ID\n"
     ]
    },
    {
     "ename": "NameError",
     "evalue": "name 'train' is not defined",
     "output_type": "error",
     "traceback": [
      "\u001b[0;31m---------------------------------------------------------------------------\u001b[0m",
      "\u001b[0;31mNameError\u001b[0m                                 Traceback (most recent call last)",
      "\u001b[0;32m/var/folders/bf/lhpb5n_j1xj4msxy6nrm9h7h0000gn/T/ipykernel_84557/3757809885.py\u001b[0m in \u001b[0;36m<module>\u001b[0;34m\u001b[0m\n\u001b[1;32m      1\u001b[0m \u001b[0;32mfor\u001b[0m \u001b[0mcol\u001b[0m \u001b[0;32min\u001b[0m \u001b[0mcol_num\u001b[0m\u001b[0;34m:\u001b[0m\u001b[0;34m\u001b[0m\u001b[0;34m\u001b[0m\u001b[0m\n\u001b[1;32m      2\u001b[0m     \u001b[0mprint\u001b[0m\u001b[0;34m(\u001b[0m\u001b[0mcol\u001b[0m\u001b[0;34m.\u001b[0m\u001b[0mupper\u001b[0m\u001b[0;34m(\u001b[0m\u001b[0;34m)\u001b[0m\u001b[0;34m)\u001b[0m\u001b[0;34m\u001b[0m\u001b[0;34m\u001b[0m\u001b[0m\n\u001b[0;32m----> 3\u001b[0;31m     \u001b[0mprint\u001b[0m\u001b[0;34m(\u001b[0m\u001b[0mtrain\u001b[0m\u001b[0;34m[\u001b[0m\u001b[0mcol\u001b[0m\u001b[0;34m]\u001b[0m\u001b[0;34m.\u001b[0m\u001b[0mvalue_counts\u001b[0m\u001b[0;34m(\u001b[0m\u001b[0;34m)\u001b[0m\u001b[0;34m)\u001b[0m\u001b[0;34m\u001b[0m\u001b[0;34m\u001b[0m\u001b[0m\n\u001b[0m\u001b[1;32m      4\u001b[0m     \u001b[0mprint\u001b[0m\u001b[0;34m(\u001b[0m\u001b[0mtrain\u001b[0m\u001b[0;34m[\u001b[0m\u001b[0mcol\u001b[0m\u001b[0;34m]\u001b[0m\u001b[0;34m.\u001b[0m\u001b[0mhist\u001b[0m\u001b[0;34m(\u001b[0m\u001b[0;34m)\u001b[0m\u001b[0;34m)\u001b[0m\u001b[0;34m\u001b[0m\u001b[0;34m\u001b[0m\u001b[0m\n\u001b[1;32m      5\u001b[0m     \u001b[0mplt\u001b[0m\u001b[0;34m.\u001b[0m\u001b[0mshow\u001b[0m\u001b[0;34m(\u001b[0m\u001b[0;34m)\u001b[0m\u001b[0;34m\u001b[0m\u001b[0;34m\u001b[0m\u001b[0m\n",
      "\u001b[0;31mNameError\u001b[0m: name 'train' is not defined"
     ]
    }
   ],
   "source": [
    "for col in col_num:\n",
    "    print(col.upper())\n",
    "    print(train[col].value_counts())\n",
    "    print(train[col].hist())\n",
    "    plt.show()"
   ]
  },
  {
   "cell_type": "markdown",
   "id": "b0e79429",
   "metadata": {},
   "source": [
    "Takeaways\n",
    "\n",
    "fare is not a normal distribution\n",
    "for fare, in the future, bin higher values, and see if it is normally distributed\n",
    "sibsp and parch has some outliers\n",
    "sibsp and parch also have high number of discrete values, maybe we'll bin these in the future"
   ]
  },
  {
   "cell_type": "markdown",
   "id": "f3467f15",
   "metadata": {},
   "source": [
    "Explore Conclusions\n",
    "note: this is a summary of all of our takeaways in the explore section\n",
    "\n",
    "passenger class affected survival rates\n",
    "fare also affected survival rates\n",
    "males survived way less than females, and were least likely to survive when traveling alone"
   ]
  },
  {
   "cell_type": "markdown",
   "id": "226dc490",
   "metadata": {},
   "source": [
    "What is your baseline prediction? What is your baseline accuracy? remember: your baseline prediction for a classification problem is predicting the most prevelant class in the training dataset (the mode). When you make those predictions, what is your accuracy? This is your baseline accuracy."
   ]
  },
  {
   "cell_type": "code",
   "execution_count": null,
   "id": "7e81bd8f",
   "metadata": {},
   "outputs": [],
   "source": [
    "t_train.survived.value_counts()"
   ]
  },
  {
   "cell_type": "code",
   "execution_count": 8,
   "id": "6f3121dc",
   "metadata": {},
   "outputs": [
    {
     "data": {
      "text/html": [
       "<div>\n",
       "<style scoped>\n",
       "    .dataframe tbody tr th:only-of-type {\n",
       "        vertical-align: middle;\n",
       "    }\n",
       "\n",
       "    .dataframe tbody tr th {\n",
       "        vertical-align: top;\n",
       "    }\n",
       "\n",
       "    .dataframe thead th {\n",
       "        text-align: right;\n",
       "    }\n",
       "</style>\n",
       "<table border=\"1\" class=\"dataframe\">\n",
       "  <thead>\n",
       "    <tr style=\"text-align: right;\">\n",
       "      <th></th>\n",
       "      <th>passenger_id</th>\n",
       "      <th>survived</th>\n",
       "      <th>pclass</th>\n",
       "      <th>sex</th>\n",
       "      <th>sibsp</th>\n",
       "      <th>parch</th>\n",
       "      <th>fare</th>\n",
       "      <th>embarked</th>\n",
       "      <th>alone</th>\n",
       "      <th>sex_male</th>\n",
       "      <th>embarked_Q</th>\n",
       "      <th>embarked_S</th>\n",
       "    </tr>\n",
       "  </thead>\n",
       "  <tbody>\n",
       "    <tr>\n",
       "      <th>455</th>\n",
       "      <td>455</td>\n",
       "      <td>1</td>\n",
       "      <td>3</td>\n",
       "      <td>male</td>\n",
       "      <td>0</td>\n",
       "      <td>0</td>\n",
       "      <td>7.8958</td>\n",
       "      <td>C</td>\n",
       "      <td>1</td>\n",
       "      <td>1</td>\n",
       "      <td>0</td>\n",
       "      <td>0</td>\n",
       "    </tr>\n",
       "    <tr>\n",
       "      <th>380</th>\n",
       "      <td>380</td>\n",
       "      <td>1</td>\n",
       "      <td>1</td>\n",
       "      <td>female</td>\n",
       "      <td>0</td>\n",
       "      <td>0</td>\n",
       "      <td>227.5250</td>\n",
       "      <td>C</td>\n",
       "      <td>1</td>\n",
       "      <td>0</td>\n",
       "      <td>0</td>\n",
       "      <td>0</td>\n",
       "    </tr>\n",
       "    <tr>\n",
       "      <th>492</th>\n",
       "      <td>492</td>\n",
       "      <td>0</td>\n",
       "      <td>1</td>\n",
       "      <td>male</td>\n",
       "      <td>0</td>\n",
       "      <td>0</td>\n",
       "      <td>30.5000</td>\n",
       "      <td>S</td>\n",
       "      <td>1</td>\n",
       "      <td>1</td>\n",
       "      <td>0</td>\n",
       "      <td>1</td>\n",
       "    </tr>\n",
       "    <tr>\n",
       "      <th>55</th>\n",
       "      <td>55</td>\n",
       "      <td>1</td>\n",
       "      <td>1</td>\n",
       "      <td>male</td>\n",
       "      <td>0</td>\n",
       "      <td>0</td>\n",
       "      <td>35.5000</td>\n",
       "      <td>S</td>\n",
       "      <td>1</td>\n",
       "      <td>1</td>\n",
       "      <td>0</td>\n",
       "      <td>1</td>\n",
       "    </tr>\n",
       "    <tr>\n",
       "      <th>243</th>\n",
       "      <td>243</td>\n",
       "      <td>0</td>\n",
       "      <td>3</td>\n",
       "      <td>male</td>\n",
       "      <td>0</td>\n",
       "      <td>0</td>\n",
       "      <td>7.1250</td>\n",
       "      <td>S</td>\n",
       "      <td>1</td>\n",
       "      <td>1</td>\n",
       "      <td>0</td>\n",
       "      <td>1</td>\n",
       "    </tr>\n",
       "    <tr>\n",
       "      <th>...</th>\n",
       "      <td>...</td>\n",
       "      <td>...</td>\n",
       "      <td>...</td>\n",
       "      <td>...</td>\n",
       "      <td>...</td>\n",
       "      <td>...</td>\n",
       "      <td>...</td>\n",
       "      <td>...</td>\n",
       "      <td>...</td>\n",
       "      <td>...</td>\n",
       "      <td>...</td>\n",
       "      <td>...</td>\n",
       "    </tr>\n",
       "    <tr>\n",
       "      <th>695</th>\n",
       "      <td>695</td>\n",
       "      <td>0</td>\n",
       "      <td>2</td>\n",
       "      <td>male</td>\n",
       "      <td>0</td>\n",
       "      <td>0</td>\n",
       "      <td>13.5000</td>\n",
       "      <td>S</td>\n",
       "      <td>1</td>\n",
       "      <td>1</td>\n",
       "      <td>0</td>\n",
       "      <td>1</td>\n",
       "    </tr>\n",
       "    <tr>\n",
       "      <th>128</th>\n",
       "      <td>128</td>\n",
       "      <td>1</td>\n",
       "      <td>3</td>\n",
       "      <td>female</td>\n",
       "      <td>1</td>\n",
       "      <td>1</td>\n",
       "      <td>22.3583</td>\n",
       "      <td>C</td>\n",
       "      <td>0</td>\n",
       "      <td>0</td>\n",
       "      <td>0</td>\n",
       "      <td>0</td>\n",
       "    </tr>\n",
       "    <tr>\n",
       "      <th>636</th>\n",
       "      <td>636</td>\n",
       "      <td>0</td>\n",
       "      <td>3</td>\n",
       "      <td>male</td>\n",
       "      <td>0</td>\n",
       "      <td>0</td>\n",
       "      <td>7.9250</td>\n",
       "      <td>S</td>\n",
       "      <td>1</td>\n",
       "      <td>1</td>\n",
       "      <td>0</td>\n",
       "      <td>1</td>\n",
       "    </tr>\n",
       "    <tr>\n",
       "      <th>222</th>\n",
       "      <td>222</td>\n",
       "      <td>0</td>\n",
       "      <td>3</td>\n",
       "      <td>male</td>\n",
       "      <td>0</td>\n",
       "      <td>0</td>\n",
       "      <td>8.0500</td>\n",
       "      <td>S</td>\n",
       "      <td>1</td>\n",
       "      <td>1</td>\n",
       "      <td>0</td>\n",
       "      <td>1</td>\n",
       "    </tr>\n",
       "    <tr>\n",
       "      <th>496</th>\n",
       "      <td>496</td>\n",
       "      <td>1</td>\n",
       "      <td>1</td>\n",
       "      <td>female</td>\n",
       "      <td>1</td>\n",
       "      <td>0</td>\n",
       "      <td>78.2667</td>\n",
       "      <td>C</td>\n",
       "      <td>0</td>\n",
       "      <td>0</td>\n",
       "      <td>0</td>\n",
       "      <td>0</td>\n",
       "    </tr>\n",
       "  </tbody>\n",
       "</table>\n",
       "<p>534 rows × 12 columns</p>\n",
       "</div>"
      ],
      "text/plain": [
       "     passenger_id  survived  pclass     sex  sibsp  parch      fare embarked  \\\n",
       "455           455         1       3    male      0      0    7.8958        C   \n",
       "380           380         1       1  female      0      0  227.5250        C   \n",
       "492           492         0       1    male      0      0   30.5000        S   \n",
       "55             55         1       1    male      0      0   35.5000        S   \n",
       "243           243         0       3    male      0      0    7.1250        S   \n",
       "..            ...       ...     ...     ...    ...    ...       ...      ...   \n",
       "695           695         0       2    male      0      0   13.5000        S   \n",
       "128           128         1       3  female      1      1   22.3583        C   \n",
       "636           636         0       3    male      0      0    7.9250        S   \n",
       "222           222         0       3    male      0      0    8.0500        S   \n",
       "496           496         1       1  female      1      0   78.2667        C   \n",
       "\n",
       "     alone  sex_male  embarked_Q  embarked_S  \n",
       "455      1         1           0           0  \n",
       "380      1         0           0           0  \n",
       "492      1         1           0           1  \n",
       "55       1         1           0           1  \n",
       "243      1         1           0           1  \n",
       "..     ...       ...         ...         ...  \n",
       "695      1         1           0           1  \n",
       "128      0         0           0           0  \n",
       "636      1         1           0           1  \n",
       "222      1         1           0           1  \n",
       "496      0         0           0           0  \n",
       "\n",
       "[534 rows x 12 columns]"
      ]
     },
     "execution_count": 8,
     "metadata": {},
     "output_type": "execute_result"
    }
   ],
   "source": [
    "baseline_accuracy = 329 / 534\n",
    "t_train"
   ]
  },
  {
   "cell_type": "code",
   "execution_count": 9,
   "id": "cd5e3849",
   "metadata": {},
   "outputs": [
    {
     "data": {
      "text/plain": [
       "0.6161048689138576"
      ]
     },
     "execution_count": 9,
     "metadata": {},
     "output_type": "execute_result"
    }
   ],
   "source": [
    "baseline_accuracy"
   ]
  },
  {
   "cell_type": "markdown",
   "id": "af785892",
   "metadata": {},
   "source": [
    "Fit the decision tree classifier to your training sample and transform (i.e. make predictions on the training sample)\n",
    "\n"
   ]
  },
  {
   "cell_type": "code",
   "execution_count": 13,
   "id": "c2256ee6",
   "metadata": {},
   "outputs": [],
   "source": [
    "target = \"survived\""
   ]
  },
  {
   "cell_type": "code",
   "execution_count": 14,
   "id": "876ec00c",
   "metadata": {},
   "outputs": [
    {
     "data": {
      "text/html": [
       "<div>\n",
       "<style scoped>\n",
       "    .dataframe tbody tr th:only-of-type {\n",
       "        vertical-align: middle;\n",
       "    }\n",
       "\n",
       "    .dataframe tbody tr th {\n",
       "        vertical-align: top;\n",
       "    }\n",
       "\n",
       "    .dataframe thead th {\n",
       "        text-align: right;\n",
       "    }\n",
       "</style>\n",
       "<table border=\"1\" class=\"dataframe\">\n",
       "  <thead>\n",
       "    <tr style=\"text-align: right;\">\n",
       "      <th></th>\n",
       "      <th>pclass</th>\n",
       "      <th>sibsp</th>\n",
       "      <th>parch</th>\n",
       "      <th>fare</th>\n",
       "      <th>alone</th>\n",
       "      <th>sex_male</th>\n",
       "      <th>embarked_Q</th>\n",
       "      <th>embarked_S</th>\n",
       "    </tr>\n",
       "  </thead>\n",
       "  <tbody>\n",
       "    <tr>\n",
       "      <th>455</th>\n",
       "      <td>3</td>\n",
       "      <td>0</td>\n",
       "      <td>0</td>\n",
       "      <td>7.8958</td>\n",
       "      <td>1</td>\n",
       "      <td>1</td>\n",
       "      <td>0</td>\n",
       "      <td>0</td>\n",
       "    </tr>\n",
       "    <tr>\n",
       "      <th>380</th>\n",
       "      <td>1</td>\n",
       "      <td>0</td>\n",
       "      <td>0</td>\n",
       "      <td>227.5250</td>\n",
       "      <td>1</td>\n",
       "      <td>0</td>\n",
       "      <td>0</td>\n",
       "      <td>0</td>\n",
       "    </tr>\n",
       "    <tr>\n",
       "      <th>492</th>\n",
       "      <td>1</td>\n",
       "      <td>0</td>\n",
       "      <td>0</td>\n",
       "      <td>30.5000</td>\n",
       "      <td>1</td>\n",
       "      <td>1</td>\n",
       "      <td>0</td>\n",
       "      <td>1</td>\n",
       "    </tr>\n",
       "    <tr>\n",
       "      <th>55</th>\n",
       "      <td>1</td>\n",
       "      <td>0</td>\n",
       "      <td>0</td>\n",
       "      <td>35.5000</td>\n",
       "      <td>1</td>\n",
       "      <td>1</td>\n",
       "      <td>0</td>\n",
       "      <td>1</td>\n",
       "    </tr>\n",
       "    <tr>\n",
       "      <th>243</th>\n",
       "      <td>3</td>\n",
       "      <td>0</td>\n",
       "      <td>0</td>\n",
       "      <td>7.1250</td>\n",
       "      <td>1</td>\n",
       "      <td>1</td>\n",
       "      <td>0</td>\n",
       "      <td>1</td>\n",
       "    </tr>\n",
       "  </tbody>\n",
       "</table>\n",
       "</div>"
      ],
      "text/plain": [
       "     pclass  sibsp  parch      fare  alone  sex_male  embarked_Q  embarked_S\n",
       "455       3      0      0    7.8958      1         1           0           0\n",
       "380       1      0      0  227.5250      1         0           0           0\n",
       "492       1      0      0   30.5000      1         1           0           1\n",
       "55        1      0      0   35.5000      1         1           0           1\n",
       "243       3      0      0    7.1250      1         1           0           1"
      ]
     },
     "execution_count": 14,
     "metadata": {},
     "output_type": "execute_result"
    }
   ],
   "source": [
    "# only x and y train\n",
    "x_train = t_train.drop(columns=[\"survived\", \"sex\", \"passenger_id\", \"embarked\"])\n",
    "\n",
    "x_train.head()"
   ]
  },
  {
   "cell_type": "code",
   "execution_count": 15,
   "id": "9955bc25",
   "metadata": {},
   "outputs": [
    {
     "data": {
      "text/plain": [
       "455    1\n",
       "380    1\n",
       "492    0\n",
       "55     1\n",
       "243    0\n",
       "Name: survived, dtype: int64"
      ]
     },
     "execution_count": 15,
     "metadata": {},
     "output_type": "execute_result"
    }
   ],
   "source": [
    "y_train = t_train[target]\n",
    "\n",
    "y_train.head()"
   ]
  },
  {
   "cell_type": "code",
   "execution_count": 16,
   "id": "d6b4fb5a",
   "metadata": {},
   "outputs": [],
   "source": [
    "# validate \n",
    "x_validate = t_validate.drop(columns=[\"survived\", \"sex\", \"passenger_id\", \"embarked\"])\n",
    "\n",
    "y_validate = t_validate[target]\n",
    "\n",
    "# test\n",
    "x_test = t_test.drop(columns=[\"survived\", \"sex\", \"passenger_id\", \"embarked\"])\n",
    "\n",
    "y_test = t_test[target]"
   ]
  },
  {
   "cell_type": "markdown",
   "id": "b739b84f",
   "metadata": {},
   "source": [
    "Evaluate your in-sample results using the model score, confusion matrix, and classification report."
   ]
  },
  {
   "cell_type": "code",
   "execution_count": 17,
   "id": "a36de8d5",
   "metadata": {},
   "outputs": [],
   "source": [
    "train_clf = DecisionTreeClassifier()"
   ]
  },
  {
   "cell_type": "code",
   "execution_count": 18,
   "id": "c8a7059c",
   "metadata": {},
   "outputs": [
    {
     "data": {
      "text/plain": [
       "DecisionTreeClassifier()"
      ]
     },
     "execution_count": 18,
     "metadata": {},
     "output_type": "execute_result"
    }
   ],
   "source": [
    "train_clf.fit(x_train, y_train)"
   ]
  },
  {
   "cell_type": "code",
   "execution_count": 19,
   "id": "7d909e81",
   "metadata": {},
   "outputs": [
    {
     "data": {
      "text/plain": [
       "0.9456928838951311"
      ]
     },
     "execution_count": 19,
     "metadata": {},
     "output_type": "execute_result"
    }
   ],
   "source": [
    "train_clf.score(x_train, y_train)"
   ]
  },
  {
   "cell_type": "code",
   "execution_count": 22,
   "id": "2a53a4fb",
   "metadata": {},
   "outputs": [
    {
     "data": {
      "image/png": "[encoded data removed]",
      "text/plain": [
       "<Figure size 1200x1600 with 1 Axes>"
      ]
     },
     "metadata": {},
     "output_type": "display_data"
    }
   ],
   "source": [
    "#see the tree that was built\n",
    "#plot_tree\n",
    "plt.figure(figsize=(12,16))\n",
    "plot_tree(train_clf, #our fitted object\n",
    "         feature_names=x_train.columns, #puts in our features for the questions\n",
    "           #enters the selected class\n",
    "          filled=True #colors our leaves and branches based on the class\n",
    "         )\n",
    "plt.show()"
   ]
  },
  {
   "cell_type": "code",
   "execution_count": null,
   "id": "ef4dc38c",
   "metadata": {},
   "outputs": [],
   "source": [
    "train_clf.score(x_validate, y_validate)"
   ]
  },
  {
   "cell_type": "code",
   "execution_count": null,
   "id": "17762f44",
   "metadata": {},
   "outputs": [],
   "source": [
    "tree1 = DecisionTreeClassifier(max_depth=8)\n",
    "tree1\n"
   ]
  },
  {
   "cell_type": "code",
   "execution_count": null,
   "id": "de71803b",
   "metadata": {},
   "outputs": [],
   "source": [
    "tree1.fit(x_train, y_train)"
   ]
  },
  {
   "cell_type": "code",
   "execution_count": null,
   "id": "c3080919",
   "metadata": {},
   "outputs": [],
   "source": [
    "#evaluate on train\n",
    "tree1.score(x_train, y_train)"
   ]
  },
  {
   "cell_type": "code",
   "execution_count": null,
   "id": "879bf1d8",
   "metadata": {},
   "outputs": [],
   "source": [
    "#see the tree that was built\n",
    "plt.figure(figsize=(8,8))\n",
    "plot_tree(tree1, #our fitted object\n",
    "         #enters the selected class\n",
    "          filled=True #colors our leaves and branches based on the class\n",
    "         )\n",
    "plt.show()"
   ]
  },
  {
   "cell_type": "code",
   "execution_count": null,
   "id": "e4e8669b",
   "metadata": {},
   "outputs": [],
   "source": [
    "tree1.score(x_validate, y_validate)"
   ]
  },
  {
   "cell_type": "code",
   "execution_count": null,
   "id": "6a6cd1d1",
   "metadata": {},
   "outputs": [],
   "source": [
    "#see predictions\n",
    "tree1.predict(x_train)[:100]"
   ]
  },
  {
   "cell_type": "code",
   "execution_count": null,
   "id": "b0a7b1a2",
   "metadata": {},
   "outputs": [],
   "source": [
    "tree1.predict_proba(x_train)[:5]"
   ]
  },
  {
   "cell_type": "code",
   "execution_count": null,
   "id": "561430b8",
   "metadata": {},
   "outputs": [],
   "source": [
    "#y_true \n",
    "y_train.head()"
   ]
  },
  {
   "cell_type": "code",
   "execution_count": null,
   "id": "208aae64",
   "metadata": {},
   "outputs": [],
   "source": [
    "y_pred = tree1.predict(x_train)\n",
    "y_pred[:5]"
   ]
  },
  {
   "cell_type": "code",
   "execution_count": null,
   "id": "ebe048cc",
   "metadata": {},
   "outputs": [],
   "source": [
    "#generate confusion matrix!\n",
    "confusion_matrix(y_train, y_pred)"
   ]
  },
  {
   "cell_type": "code",
   "execution_count": null,
   "id": "613c4779",
   "metadata": {},
   "outputs": [],
   "source": [
    "#find labels in our dataset & sort\n",
    "labels = sorted(y_train.unique())\n",
    "labels"
   ]
  },
  {
   "cell_type": "code",
   "execution_count": null,
   "id": "84be4511",
   "metadata": {},
   "outputs": [],
   "source": [
    "#make pretty with df\n",
    "pd.DataFrame(confusion_matrix(y_train, y_pred),\n",
    "            index=[f\"{label} + _actual\"for label in labels],\n",
    "            columns=[f\"{label} + '_predict\" for label in labels])"
   ]
  },
  {
   "cell_type": "markdown",
   "id": "f3193557",
   "metadata": {},
   "source": [
    "Compute: Accuracy, true positive rate, false positive rate, true negative rate, false negative rate, precision, recall, f1-score, and support."
   ]
  },
  {
   "cell_type": "code",
   "execution_count": null,
   "id": "8a21eefe",
   "metadata": {},
   "outputs": [],
   "source": [
    "print(classification_report(y_train, y_pred))"
   ]
  },
  {
   "cell_type": "code",
   "execution_count": null,
   "id": "ebc16eeb",
   "metadata": {},
   "outputs": [],
   "source": [
    "#score our validate\n",
    "tree1.score(x_validate, y_validate)"
   ]
  },
  {
   "cell_type": "code",
   "execution_count": null,
   "id": "e21cea91",
   "metadata": {},
   "outputs": [],
   "source": [
    "#create using max_leaf_nodes\n",
    "tree2 = DecisionTreeClassifier(max_leaf_nodes=9)\n",
    "\n",
    "#fit\n",
    "tree2.fit(x_train, y_train)\n",
    "\n",
    "#transform\n",
    "tree2.score(x_train, y_train)"
   ]
  },
  {
   "cell_type": "code",
   "execution_count": null,
   "id": "11d863b0",
   "metadata": {},
   "outputs": [],
   "source": [
    "#plot the tree!\n",
    "plot_tree(tree2, #our fitted object\n",
    "         feature_names=x_train.columns, #enters the selected class\n",
    "          filled=True #colors our leaves and branches based on the class\n",
    "         )\n",
    "plt.show()"
   ]
  },
  {
   "cell_type": "markdown",
   "id": "0169e54f",
   "metadata": {},
   "source": [
    "Run through steps 2-4 using a different max_depth value.\n",
    "\n",
    "Which model performs better on your in-sample data?\n",
    "\n",
    "Which model performs best on your out-of-sample data, the validate set?"
   ]
  },
  {
   "cell_type": "code",
   "execution_count": null,
   "id": "2f5a5796",
   "metadata": {},
   "outputs": [],
   "source": [
    "#evaluate on validate\n",
    "tree2.score(x_validate, y_validate)"
   ]
  },
  {
   "cell_type": "code",
   "execution_count": null,
   "id": "2a526639",
   "metadata": {},
   "outputs": [],
   "source": [
    "# max leaf nodes = 8,9 - 79% 10- 76% \n",
    "#set features i found in exploration\n",
    "features = ['sex_male', 'pclass']\n",
    "features1 = ['alone', 'pclass']\n",
    "features\n"
   ]
  },
  {
   "cell_type": "code",
   "execution_count": null,
   "id": "887ac40c",
   "metadata": {},
   "outputs": [],
   "source": [
    "t_train.head()"
   ]
  },
  {
   "cell_type": "code",
   "execution_count": null,
   "id": "7f40bed2",
   "metadata": {},
   "outputs": [],
   "source": [
    "#create\n",
    "tree3 = DecisionTreeClassifier()\n",
    "\n",
    "#fit \n",
    "#with features\n",
    "tree3.fit(x_train[features1], y_train)\n",
    "\n",
    "#transform \n",
    "#with features\n",
    "tree3.score(x_train[features1], y_train)"
   ]
  },
  {
   "cell_type": "code",
   "execution_count": null,
   "id": "473d2404",
   "metadata": {},
   "outputs": [],
   "source": [
    "#evaluate on validate \n",
    "#with features\n",
    "tree3.score(x_validate[features1], y_validate)"
   ]
  },
  {
   "cell_type": "code",
   "execution_count": null,
   "id": "c5f21e03",
   "metadata": {},
   "outputs": [],
   "source": [
    "# (sex, pclass )train- 79 val -77\n",
    "# ['fare', 'pclass'] 84% 70%\n",
    "# ['sex_male', 'fare'] 92% 75%\n",
    "# ['alone', 'sex'] 79% 77%\n",
    "# ['alone', 'pclass'] 69% 69%"
   ]
  },
  {
   "cell_type": "code",
   "execution_count": null,
   "id": "8a9f5ee5",
   "metadata": {},
   "outputs": [],
   "source": [
    "tree4 = DecisionTreeClassifier(max_depth=8, max_leaf_nodes=9)"
   ]
  },
  {
   "cell_type": "code",
   "execution_count": null,
   "id": "83d43f98",
   "metadata": {},
   "outputs": [],
   "source": [
    "#fit\n",
    "tree4.fit(x_train, y_train)\n",
    "\n",
    "#transform\n",
    "tree4.score(x_train, y_train)"
   ]
  },
  {
   "cell_type": "code",
   "execution_count": null,
   "id": "1f59f1b4",
   "metadata": {},
   "outputs": [],
   "source": [
    "tree4.score(x_validate, y_validate)"
   ]
  },
  {
   "cell_type": "code",
   "execution_count": null,
   "id": "a82b886c",
   "metadata": {},
   "outputs": [],
   "source": [
    "# FINAL model test\n",
    "tree4.score(x_test, y_test)"
   ]
  },
  {
   "cell_type": "code",
   "execution_count": 38,
   "id": "7ba15353",
   "metadata": {},
   "outputs": [],
   "source": [
    "tel_train, tel_validate, tel_test = prep.get_prep_split_telco()                                              "
   ]
  },
  {
   "cell_type": "code",
   "execution_count": 39,
   "id": "601ccbea",
   "metadata": {},
   "outputs": [
    {
     "data": {
      "text/plain": [
       "Index(['senior_citizen', 'tenure', 'monthly_charges', 'total_charges',\n",
       "       'gender_Male', 'partner_Yes', 'dependents_Yes', 'paperless_billing_Yes',\n",
       "       'internet_service_type_Fiber optic', 'internet_service_type_None',\n",
       "       'payment_type_Credit card (automatic)', 'payment_type_Electronic check',\n",
       "       'payment_type_Mailed check', 'tech_support_No internet service',\n",
       "       'tech_support_Yes', 'churn_Yes'],\n",
       "      dtype='object')"
      ]
     },
     "execution_count": 39,
     "metadata": {},
     "output_type": "execute_result"
    }
   ],
   "source": [
    "tel_train.columns"
   ]
  },
  {
   "cell_type": "code",
   "execution_count": 40,
   "id": "af22ad13",
   "metadata": {},
   "outputs": [
    {
     "data": {
      "text/html": [
       "<div>\n",
       "<style scoped>\n",
       "    .dataframe tbody tr th:only-of-type {\n",
       "        vertical-align: middle;\n",
       "    }\n",
       "\n",
       "    .dataframe tbody tr th {\n",
       "        vertical-align: top;\n",
       "    }\n",
       "\n",
       "    .dataframe thead th {\n",
       "        text-align: right;\n",
       "    }\n",
       "</style>\n",
       "<table border=\"1\" class=\"dataframe\">\n",
       "  <thead>\n",
       "    <tr style=\"text-align: right;\">\n",
       "      <th></th>\n",
       "      <th>senior_citizen</th>\n",
       "      <th>tenure</th>\n",
       "      <th>monthly_charges</th>\n",
       "      <th>total_charges</th>\n",
       "      <th>gender_Male</th>\n",
       "      <th>partner_Yes</th>\n",
       "      <th>dependents_Yes</th>\n",
       "      <th>paperless_billing_Yes</th>\n",
       "      <th>internet_service_type_Fiber optic</th>\n",
       "      <th>internet_service_type_None</th>\n",
       "      <th>payment_type_Credit card (automatic)</th>\n",
       "      <th>payment_type_Electronic check</th>\n",
       "      <th>payment_type_Mailed check</th>\n",
       "      <th>tech_support_No internet service</th>\n",
       "      <th>tech_support_Yes</th>\n",
       "      <th>churn_Yes</th>\n",
       "    </tr>\n",
       "  </thead>\n",
       "  <tbody>\n",
       "    <tr>\n",
       "      <th>5911</th>\n",
       "      <td>0</td>\n",
       "      <td>26</td>\n",
       "      <td>39.95</td>\n",
       "      <td>1023.75</td>\n",
       "      <td>1</td>\n",
       "      <td>0</td>\n",
       "      <td>1</td>\n",
       "      <td>1</td>\n",
       "      <td>0</td>\n",
       "      <td>0</td>\n",
       "      <td>0</td>\n",
       "      <td>0</td>\n",
       "      <td>0</td>\n",
       "      <td>0</td>\n",
       "      <td>0</td>\n",
       "      <td>0</td>\n",
       "    </tr>\n",
       "    <tr>\n",
       "      <th>2479</th>\n",
       "      <td>0</td>\n",
       "      <td>47</td>\n",
       "      <td>26.90</td>\n",
       "      <td>1250.85</td>\n",
       "      <td>0</td>\n",
       "      <td>1</td>\n",
       "      <td>0</td>\n",
       "      <td>0</td>\n",
       "      <td>0</td>\n",
       "      <td>1</td>\n",
       "      <td>0</td>\n",
       "      <td>1</td>\n",
       "      <td>0</td>\n",
       "      <td>1</td>\n",
       "      <td>0</td>\n",
       "      <td>0</td>\n",
       "    </tr>\n",
       "    <tr>\n",
       "      <th>5889</th>\n",
       "      <td>0</td>\n",
       "      <td>1</td>\n",
       "      <td>50.45</td>\n",
       "      <td>50.45</td>\n",
       "      <td>0</td>\n",
       "      <td>0</td>\n",
       "      <td>0</td>\n",
       "      <td>1</td>\n",
       "      <td>0</td>\n",
       "      <td>0</td>\n",
       "      <td>0</td>\n",
       "      <td>0</td>\n",
       "      <td>1</td>\n",
       "      <td>0</td>\n",
       "      <td>0</td>\n",
       "      <td>1</td>\n",
       "    </tr>\n",
       "    <tr>\n",
       "      <th>6087</th>\n",
       "      <td>0</td>\n",
       "      <td>69</td>\n",
       "      <td>60.05</td>\n",
       "      <td>4176.70</td>\n",
       "      <td>1</td>\n",
       "      <td>0</td>\n",
       "      <td>0</td>\n",
       "      <td>1</td>\n",
       "      <td>0</td>\n",
       "      <td>0</td>\n",
       "      <td>0</td>\n",
       "      <td>0</td>\n",
       "      <td>0</td>\n",
       "      <td>0</td>\n",
       "      <td>1</td>\n",
       "      <td>0</td>\n",
       "    </tr>\n",
       "    <tr>\n",
       "      <th>785</th>\n",
       "      <td>0</td>\n",
       "      <td>51</td>\n",
       "      <td>87.55</td>\n",
       "      <td>4475.90</td>\n",
       "      <td>0</td>\n",
       "      <td>0</td>\n",
       "      <td>0</td>\n",
       "      <td>0</td>\n",
       "      <td>1</td>\n",
       "      <td>0</td>\n",
       "      <td>1</td>\n",
       "      <td>0</td>\n",
       "      <td>0</td>\n",
       "      <td>0</td>\n",
       "      <td>0</td>\n",
       "      <td>0</td>\n",
       "    </tr>\n",
       "  </tbody>\n",
       "</table>\n",
       "</div>"
      ],
      "text/plain": [
       "      senior_citizen  tenure  monthly_charges  total_charges  gender_Male  \\\n",
       "5911               0      26            39.95        1023.75            1   \n",
       "2479               0      47            26.90        1250.85            0   \n",
       "5889               0       1            50.45          50.45            0   \n",
       "6087               0      69            60.05        4176.70            1   \n",
       "785                0      51            87.55        4475.90            0   \n",
       "\n",
       "      partner_Yes  dependents_Yes  paperless_billing_Yes  \\\n",
       "5911            0               1                      1   \n",
       "2479            1               0                      0   \n",
       "5889            0               0                      1   \n",
       "6087            0               0                      1   \n",
       "785             0               0                      0   \n",
       "\n",
       "      internet_service_type_Fiber optic  internet_service_type_None  \\\n",
       "5911                                  0                           0   \n",
       "2479                                  0                           1   \n",
       "5889                                  0                           0   \n",
       "6087                                  0                           0   \n",
       "785                                   1                           0   \n",
       "\n",
       "      payment_type_Credit card (automatic)  payment_type_Electronic check  \\\n",
       "5911                                     0                              0   \n",
       "2479                                     0                              1   \n",
       "5889                                     0                              0   \n",
       "6087                                     0                              0   \n",
       "785                                      1                              0   \n",
       "\n",
       "      payment_type_Mailed check  tech_support_No internet service  \\\n",
       "5911                          0                                 0   \n",
       "2479                          0                                 1   \n",
       "5889                          1                                 0   \n",
       "6087                          0                                 0   \n",
       "785                           0                                 0   \n",
       "\n",
       "      tech_support_Yes  churn_Yes  \n",
       "5911                 0          0  \n",
       "2479                 0          0  \n",
       "5889                 0          1  \n",
       "6087                 1          0  \n",
       "785                  0          0  "
      ]
     },
     "execution_count": 40,
     "metadata": {},
     "output_type": "execute_result"
    }
   ],
   "source": [
    "tel_train.head()"
   ]
  },
  {
   "cell_type": "code",
   "execution_count": 41,
   "id": "0780359e",
   "metadata": {},
   "outputs": [
    {
     "data": {
      "text/plain": [
       "0    3104\n",
       "1    1121\n",
       "Name: churn_Yes, dtype: int64"
      ]
     },
     "execution_count": 41,
     "metadata": {},
     "output_type": "execute_result"
    }
   ],
   "source": [
    "tel_train.churn_Yes.value_counts()"
   ]
  },
  {
   "cell_type": "code",
   "execution_count": 42,
   "id": "9ca60efd",
   "metadata": {},
   "outputs": [],
   "source": [
    "tel_baseline_accuracy = 3104/(3140 + 1121)"
   ]
  },
  {
   "cell_type": "code",
   "execution_count": 43,
   "id": "9042c56a",
   "metadata": {},
   "outputs": [
    {
     "data": {
      "text/plain": [
       "0.7284674958929829"
      ]
     },
     "execution_count": 43,
     "metadata": {},
     "output_type": "execute_result"
    }
   ],
   "source": [
    "tel_baseline_accuracy"
   ]
  },
  {
   "cell_type": "code",
   "execution_count": 44,
   "id": "184c20dd",
   "metadata": {},
   "outputs": [],
   "source": [
    "tel_x_train = tel_train.iloc[:,:-1]"
   ]
  },
  {
   "cell_type": "code",
   "execution_count": 45,
   "id": "ca7aaafc",
   "metadata": {},
   "outputs": [],
   "source": [
    "#repeat for validate and test\n",
    "tel_x_validate = tel_validate.iloc[:,:-1]\n",
    "tel_X_test = tel_test.iloc[:,:-1]"
   ]
  },
  {
   "cell_type": "code",
   "execution_count": 46,
   "id": "d2470a65",
   "metadata": {},
   "outputs": [],
   "source": [
    "target = \"churn_Yes\""
   ]
  },
  {
   "cell_type": "code",
   "execution_count": 50,
   "id": "78f695cd",
   "metadata": {},
   "outputs": [],
   "source": [
    "#notice im sending in a single column name\n",
    "tel_y_train = tel_train[target]\n",
    "y_train.head()\n",
    "\n",
    "#repeat for validate and test\n",
    "tel_y_validate = tel_validate[target]\n",
    "tel_y_test = tel_test[target]"
   ]
  },
  {
   "cell_type": "code",
   "execution_count": null,
   "id": "a173522c",
   "metadata": {},
   "outputs": [],
   "source": []
  },
  {
   "cell_type": "code",
   "execution_count": 56,
   "id": "7673de28",
   "metadata": {},
   "outputs": [],
   "source": [
    "def max_depth_function(x_train=x_train, y_train=y_train, x_validate=x_validate, y_validate=y_validate):\n",
    "    for x in range(1,20):\n",
    "            print(x)\n",
    "            tree = DecisionTreeClassifier(max_depth=x)\n",
    "            tree.fit(x_train, y_train)\n",
    "            acc = tree.score(x_train, y_train)\n",
    "            #validate\n",
    "            val_acc = tree.score(x_validate, y_validate)\n",
    "            print(f\"The max depth is {x} and accuracy is {round(acc, 2)} the validation accuracy is {round(val_acc, 2)}\")"
   ]
  },
  {
   "cell_type": "code",
   "execution_count": 110,
   "id": "0a4a7503",
   "metadata": {},
   "outputs": [],
   "source": [
    "def max_depth_function(x_train=x_train, y_train=y_train, x_validate=x_validate, y_validate=y_validate):\n",
    "    lst = []\n",
    "    for x in range(1,20):\n",
    "        tree = DecisionTreeClassifier(max_depth=x)\n",
    "        tree.fit(x_train, y_train)\n",
    "        acc = tree.score(x_train, y_train)\n",
    "        #validate\n",
    "        val_acc = tree.score(x_validate, y_validate)\n",
    "        y = f\"max depth- {x} accuracy- {round(acc, 2)} validation accuracy {round(val_acc, 2)}\"\n",
    "        lst1 = lst.append(y)\n",
    "        lst.append(acc)\n",
    "        for i in lst1:\n",
    "            if i\n",
    "            \n",
    "    return lst\n"
   ]
  },
  {
   "cell_type": "code",
   "execution_count": 111,
   "id": "79950e94",
   "metadata": {},
   "outputs": [
    {
     "data": {
      "text/plain": [
       "['max depth- 1 accuracy- 0.73 validation accuracy 0.73',\n",
       " 'max depth- 2 accuracy- 0.79 validation accuracy 0.79',\n",
       " 'max depth- 3 accuracy- 0.79 validation accuracy 0.79',\n",
       " 'max depth- 4 accuracy- 0.79 validation accuracy 0.8',\n",
       " 'max depth- 5 accuracy- 0.81 validation accuracy 0.79',\n",
       " 'max depth- 6 accuracy- 0.81 validation accuracy 0.79',\n",
       " 'max depth- 7 accuracy- 0.82 validation accuracy 0.78',\n",
       " 'max depth- 8 accuracy- 0.84 validation accuracy 0.77',\n",
       " 'max depth- 9 accuracy- 0.86 validation accuracy 0.77',\n",
       " 'max depth- 10 accuracy- 0.88 validation accuracy 0.74',\n",
       " 'max depth- 11 accuracy- 0.9 validation accuracy 0.74',\n",
       " 'max depth- 12 accuracy- 0.93 validation accuracy 0.73',\n",
       " 'max depth- 13 accuracy- 0.94 validation accuracy 0.73',\n",
       " 'max depth- 14 accuracy- 0.96 validation accuracy 0.72',\n",
       " 'max depth- 15 accuracy- 0.97 validation accuracy 0.72',\n",
       " 'max depth- 16 accuracy- 0.97 validation accuracy 0.71',\n",
       " 'max depth- 17 accuracy- 0.98 validation accuracy 0.71',\n",
       " 'max depth- 18 accuracy- 0.99 validation accuracy 0.71',\n",
       " 'max depth- 19 accuracy- 0.99 validation accuracy 0.72']"
      ]
     },
     "execution_count": 111,
     "metadata": {},
     "output_type": "execute_result"
    }
   ],
   "source": [
    "max_depth_function(tel_x_train, tel_y_train, tel_x_validate, tel_y_validate)"
   ]
  },
  {
   "cell_type": "code",
   "execution_count": null,
   "id": "53c2e8a4",
   "metadata": {},
   "outputs": [],
   "source": []
  }
 ],
 "metadata": {
  "kernelspec": {
   "display_name": "Python 3 (ipykernel)",
   "language": "python",
   "name": "python3"
  },
  "language_info": {
   "codemirror_mode": {
    "name": "ipython",
    "version": 3
   },
   "file_extension": ".py",
   "mimetype": "text/x-python",
   "name": "python",
   "nbconvert_exporter": "python",
   "pygments_lexer": "ipython3",
   "version": "3.9.13"
  }
 },
 "nbformat": 4,
 "nbformat_minor": 5
}
