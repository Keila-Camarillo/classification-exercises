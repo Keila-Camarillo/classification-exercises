{
 "cells": [
  {
   "cell_type": "code",
   "execution_count": 10,
   "id": "5b81e9cb",
   "metadata": {},
   "outputs": [],
   "source": [
    "import warnings\n",
    "warnings.filterwarnings(\"ignore\")\n",
    "\n",
    "# Tabular data friends:\n",
    "import pandas as pd\n",
    "import numpy as np\n",
    "\n",
    "# Data viz:\n",
    "import matplotlib.pyplot as plt\n",
    "import seaborn as sns\n",
    "\n",
    "# Sklearn stuff:\n",
    "from sklearn.model_selection import train_test_split\n",
    "from sklearn.neighbors import KNeighborsClassifier\n",
    "from sklearn.metrics import classification_report, confusion_matrix, plot_confusion_matrix\n",
    "\n",
    "# Data acquisition\n",
    "from pydataset import data\n",
    "\n",
    "import prepare as prep\n",
    "import modeling as mod"
   ]
  },
  {
   "cell_type": "markdown",
   "id": "aeb1adca",
   "metadata": {},
   "source": [
    "1. Fit a K-Nearest Neighbors classifier to your training sample and transform (i.e. make predictions on the training sample)"
   ]
  },
  {
   "cell_type": "code",
   "execution_count": 11,
   "id": "a3a7c65e",
   "metadata": {},
   "outputs": [],
   "source": [
    "train, validate, test = prep.get_prep_split_titanic()"
   ]
  },
  {
   "cell_type": "code",
   "execution_count": 12,
   "id": "84846e7b",
   "metadata": {},
   "outputs": [],
   "source": [
    "train\n",
    "col= [\"passenger_id\", \"sex\", \"survived\", \"embarked\"]"
   ]
  },
  {
   "cell_type": "code",
   "execution_count": 13,
   "id": "9827d5b8",
   "metadata": {},
   "outputs": [],
   "source": [
    "x_train, y_train, x_validate, y_validate, x_test, y_test = mod.create_x_y(train, validate, test, \"survived\", col )"
   ]
  },
  {
   "cell_type": "code",
   "execution_count": 14,
   "id": "c2271561",
   "metadata": {},
   "outputs": [
    {
     "data": {
      "text/html": [
       "<div>\n",
       "<style scoped>\n",
       "    .dataframe tbody tr th:only-of-type {\n",
       "        vertical-align: middle;\n",
       "    }\n",
       "\n",
       "    .dataframe tbody tr th {\n",
       "        vertical-align: top;\n",
       "    }\n",
       "\n",
       "    .dataframe thead th {\n",
       "        text-align: right;\n",
       "    }\n",
       "</style>\n",
       "<table border=\"1\" class=\"dataframe\">\n",
       "  <thead>\n",
       "    <tr style=\"text-align: right;\">\n",
       "      <th></th>\n",
       "      <th>pclass</th>\n",
       "      <th>sibsp</th>\n",
       "      <th>parch</th>\n",
       "      <th>fare</th>\n",
       "      <th>alone</th>\n",
       "      <th>sex_male</th>\n",
       "      <th>embarked_Q</th>\n",
       "      <th>embarked_S</th>\n",
       "    </tr>\n",
       "  </thead>\n",
       "  <tbody>\n",
       "    <tr>\n",
       "      <th>455</th>\n",
       "      <td>3</td>\n",
       "      <td>0</td>\n",
       "      <td>0</td>\n",
       "      <td>7.8958</td>\n",
       "      <td>1</td>\n",
       "      <td>1</td>\n",
       "      <td>0</td>\n",
       "      <td>0</td>\n",
       "    </tr>\n",
       "    <tr>\n",
       "      <th>380</th>\n",
       "      <td>1</td>\n",
       "      <td>0</td>\n",
       "      <td>0</td>\n",
       "      <td>227.5250</td>\n",
       "      <td>1</td>\n",
       "      <td>0</td>\n",
       "      <td>0</td>\n",
       "      <td>0</td>\n",
       "    </tr>\n",
       "    <tr>\n",
       "      <th>492</th>\n",
       "      <td>1</td>\n",
       "      <td>0</td>\n",
       "      <td>0</td>\n",
       "      <td>30.5000</td>\n",
       "      <td>1</td>\n",
       "      <td>1</td>\n",
       "      <td>0</td>\n",
       "      <td>1</td>\n",
       "    </tr>\n",
       "    <tr>\n",
       "      <th>55</th>\n",
       "      <td>1</td>\n",
       "      <td>0</td>\n",
       "      <td>0</td>\n",
       "      <td>35.5000</td>\n",
       "      <td>1</td>\n",
       "      <td>1</td>\n",
       "      <td>0</td>\n",
       "      <td>1</td>\n",
       "    </tr>\n",
       "    <tr>\n",
       "      <th>243</th>\n",
       "      <td>3</td>\n",
       "      <td>0</td>\n",
       "      <td>0</td>\n",
       "      <td>7.1250</td>\n",
       "      <td>1</td>\n",
       "      <td>1</td>\n",
       "      <td>0</td>\n",
       "      <td>1</td>\n",
       "    </tr>\n",
       "    <tr>\n",
       "      <th>...</th>\n",
       "      <td>...</td>\n",
       "      <td>...</td>\n",
       "      <td>...</td>\n",
       "      <td>...</td>\n",
       "      <td>...</td>\n",
       "      <td>...</td>\n",
       "      <td>...</td>\n",
       "      <td>...</td>\n",
       "    </tr>\n",
       "    <tr>\n",
       "      <th>695</th>\n",
       "      <td>2</td>\n",
       "      <td>0</td>\n",
       "      <td>0</td>\n",
       "      <td>13.5000</td>\n",
       "      <td>1</td>\n",
       "      <td>1</td>\n",
       "      <td>0</td>\n",
       "      <td>1</td>\n",
       "    </tr>\n",
       "    <tr>\n",
       "      <th>128</th>\n",
       "      <td>3</td>\n",
       "      <td>1</td>\n",
       "      <td>1</td>\n",
       "      <td>22.3583</td>\n",
       "      <td>0</td>\n",
       "      <td>0</td>\n",
       "      <td>0</td>\n",
       "      <td>0</td>\n",
       "    </tr>\n",
       "    <tr>\n",
       "      <th>636</th>\n",
       "      <td>3</td>\n",
       "      <td>0</td>\n",
       "      <td>0</td>\n",
       "      <td>7.9250</td>\n",
       "      <td>1</td>\n",
       "      <td>1</td>\n",
       "      <td>0</td>\n",
       "      <td>1</td>\n",
       "    </tr>\n",
       "    <tr>\n",
       "      <th>222</th>\n",
       "      <td>3</td>\n",
       "      <td>0</td>\n",
       "      <td>0</td>\n",
       "      <td>8.0500</td>\n",
       "      <td>1</td>\n",
       "      <td>1</td>\n",
       "      <td>0</td>\n",
       "      <td>1</td>\n",
       "    </tr>\n",
       "    <tr>\n",
       "      <th>496</th>\n",
       "      <td>1</td>\n",
       "      <td>1</td>\n",
       "      <td>0</td>\n",
       "      <td>78.2667</td>\n",
       "      <td>0</td>\n",
       "      <td>0</td>\n",
       "      <td>0</td>\n",
       "      <td>0</td>\n",
       "    </tr>\n",
       "  </tbody>\n",
       "</table>\n",
       "<p>534 rows × 8 columns</p>\n",
       "</div>"
      ],
      "text/plain": [
       "     pclass  sibsp  parch      fare  alone  sex_male  embarked_Q  embarked_S\n",
       "455       3      0      0    7.8958      1         1           0           0\n",
       "380       1      0      0  227.5250      1         0           0           0\n",
       "492       1      0      0   30.5000      1         1           0           1\n",
       "55        1      0      0   35.5000      1         1           0           1\n",
       "243       3      0      0    7.1250      1         1           0           1\n",
       "..      ...    ...    ...       ...    ...       ...         ...         ...\n",
       "695       2      0      0   13.5000      1         1           0           1\n",
       "128       3      1      1   22.3583      0         0           0           0\n",
       "636       3      0      0    7.9250      1         1           0           1\n",
       "222       3      0      0    8.0500      1         1           0           1\n",
       "496       1      1      0   78.2667      0         0           0           0\n",
       "\n",
       "[534 rows x 8 columns]"
      ]
     },
     "execution_count": 14,
     "metadata": {},
     "output_type": "execute_result"
    }
   ],
   "source": [
    "x_train"
   ]
  },
  {
   "cell_type": "code",
   "execution_count": 15,
   "id": "ebb84c20",
   "metadata": {},
   "outputs": [
    {
     "data": {
      "text/plain": [
       "KNeighborsClassifier()"
      ]
     },
     "execution_count": 15,
     "metadata": {},
     "output_type": "execute_result"
    }
   ],
   "source": [
    "knn5 = KNeighborsClassifier(n_neighbors=5, weights='uniform')\n",
    "knn5.fit(x_train, y_train)"
   ]
  },
  {
   "cell_type": "code",
   "execution_count": 16,
   "id": "620ea1cc",
   "metadata": {},
   "outputs": [],
   "source": [
    "y_pred5 = knn5.predict(x_train)\n",
    "y_pred_proba5 = knn5.predict_proba(x_train)\n",
    "# y_pred_proba5 = knn5.predict_proba(x_train)"
   ]
  },
  {
   "cell_type": "code",
   "execution_count": 17,
   "id": "9ded3891",
   "metadata": {},
   "outputs": [
    {
     "data": {
      "text/plain": [
       "array([[0.6, 0.4],\n",
       "       [0.4, 0.6],\n",
       "       [0.4, 0.6],\n",
       "       [0.6, 0.4],\n",
       "       [1. , 0. ]])"
      ]
     },
     "execution_count": 17,
     "metadata": {},
     "output_type": "execute_result"
    }
   ],
   "source": [
    "y_pred_proba5[:5]\n"
   ]
  },
  {
   "cell_type": "markdown",
   "id": "bfd2dc39",
   "metadata": {},
   "source": [
    "2. Evaluate your results using the model score, confusion matrix, and classification report."
   ]
  },
  {
   "cell_type": "code",
   "execution_count": 18,
   "id": "d7b4cfa2",
   "metadata": {},
   "outputs": [
    {
     "data": {
      "text/plain": [
       "array([[280,  49],\n",
       "       [ 50, 155]])"
      ]
     },
     "execution_count": 18,
     "metadata": {},
     "output_type": "execute_result"
    }
   ],
   "source": [
    "confusion_matrix(y_train, y_pred5)"
   ]
  },
  {
   "cell_type": "code",
   "execution_count": 19,
   "id": "21c9b7de",
   "metadata": {},
   "outputs": [
    {
     "data": {
      "text/html": [
       "<div>\n",
       "<style scoped>\n",
       "    .dataframe tbody tr th:only-of-type {\n",
       "        vertical-align: middle;\n",
       "    }\n",
       "\n",
       "    .dataframe tbody tr th {\n",
       "        vertical-align: top;\n",
       "    }\n",
       "\n",
       "    .dataframe thead th {\n",
       "        text-align: right;\n",
       "    }\n",
       "</style>\n",
       "<table border=\"1\" class=\"dataframe\">\n",
       "  <thead>\n",
       "    <tr style=\"text-align: right;\">\n",
       "      <th>col_0</th>\n",
       "      <th>0</th>\n",
       "      <th>1</th>\n",
       "    </tr>\n",
       "    <tr>\n",
       "      <th>survived</th>\n",
       "      <th></th>\n",
       "      <th></th>\n",
       "    </tr>\n",
       "  </thead>\n",
       "  <tbody>\n",
       "    <tr>\n",
       "      <th>0</th>\n",
       "      <td>280</td>\n",
       "      <td>49</td>\n",
       "    </tr>\n",
       "    <tr>\n",
       "      <th>1</th>\n",
       "      <td>50</td>\n",
       "      <td>155</td>\n",
       "    </tr>\n",
       "  </tbody>\n",
       "</table>\n",
       "</div>"
      ],
      "text/plain": [
       "col_0       0    1\n",
       "survived          \n",
       "0         280   49\n",
       "1          50  155"
      ]
     },
     "execution_count": 19,
     "metadata": {},
     "output_type": "execute_result"
    }
   ],
   "source": [
    "pd.crosstab(y_train, y_pred5)"
   ]
  },
  {
   "cell_type": "code",
   "execution_count": 20,
   "id": "0f7b325d",
   "metadata": {},
   "outputs": [
    {
     "name": "stdout",
     "output_type": "stream",
     "text": [
      "              precision    recall  f1-score   support\n",
      "\n",
      "           0       0.85      0.85      0.85       329\n",
      "           1       0.76      0.76      0.76       205\n",
      "\n",
      "    accuracy                           0.81       534\n",
      "   macro avg       0.80      0.80      0.80       534\n",
      "weighted avg       0.81      0.81      0.81       534\n",
      "\n"
     ]
    }
   ],
   "source": [
    "print(classification_report(y_train, y_pred5))"
   ]
  },
  {
   "cell_type": "code",
   "execution_count": 21,
   "id": "201532b2-b2f1-4c39-a81e-ce9eb05868a6",
   "metadata": {
    "tags": []
   },
   "outputs": [],
   "source": [
    "def knn_model_accuracies(x_train, y_train, x_validate, y_validate):\n",
    "    '''\n",
    "    This function is an aid for KNN models.\n",
    "    Takes arguments x_train, y_train, x_validate, y_validate, which iterates through 10 n_neighbors and fits \n",
    "    and then produces a dataframe that shows the train score, validation score and their differences\n",
    "    '''\n",
    "    model_accuracies = {}\n",
    "\n",
    "    for i in range(1,21):\n",
    "        #MAKE THE THING\n",
    "        knn = KNeighborsClassifier(n_neighbors=i)\n",
    "\n",
    "        #FIT THE THING\n",
    "        knn.fit(x_train, y_train)\n",
    "\n",
    "        #USE THE THING\n",
    "        model_accuracies[f'{i}_neighbors'] = {\n",
    "            'train_score': round(knn.score(x_train, y_train),2),\n",
    "            'validate_score':round(knn.score(x_validate, y_validate),2),\n",
    "            'diff_score': round(round(knn.score(x_train, y_train),2) - round(knn.score(x_validate, y_validate),2), 2)\n",
    "        }\n",
    "    return pd.DataFrame(model_accuracies).T\n"
   ]
  },
  {
   "cell_type": "code",
   "execution_count": 22,
   "id": "552e4bae-2e02-46b4-9723-086c36dfa129",
   "metadata": {},
   "outputs": [
    {
     "data": {
      "text/html": [
       "<div>\n",
       "<style scoped>\n",
       "    .dataframe tbody tr th:only-of-type {\n",
       "        vertical-align: middle;\n",
       "    }\n",
       "\n",
       "    .dataframe tbody tr th {\n",
       "        vertical-align: top;\n",
       "    }\n",
       "\n",
       "    .dataframe thead th {\n",
       "        text-align: right;\n",
       "    }\n",
       "</style>\n",
       "<table border=\"1\" class=\"dataframe\">\n",
       "  <thead>\n",
       "    <tr style=\"text-align: right;\">\n",
       "      <th></th>\n",
       "      <th>train_score</th>\n",
       "      <th>validate_score</th>\n",
       "      <th>diff_score</th>\n",
       "    </tr>\n",
       "  </thead>\n",
       "  <tbody>\n",
       "    <tr>\n",
       "      <th>1_neighbors</th>\n",
       "      <td>0.93</td>\n",
       "      <td>0.69</td>\n",
       "      <td>0.24</td>\n",
       "    </tr>\n",
       "    <tr>\n",
       "      <th>2_neighbors</th>\n",
       "      <td>0.86</td>\n",
       "      <td>0.72</td>\n",
       "      <td>0.14</td>\n",
       "    </tr>\n",
       "    <tr>\n",
       "      <th>3_neighbors</th>\n",
       "      <td>0.85</td>\n",
       "      <td>0.73</td>\n",
       "      <td>0.12</td>\n",
       "    </tr>\n",
       "    <tr>\n",
       "      <th>4_neighbors</th>\n",
       "      <td>0.82</td>\n",
       "      <td>0.74</td>\n",
       "      <td>0.08</td>\n",
       "    </tr>\n",
       "    <tr>\n",
       "      <th>5_neighbors</th>\n",
       "      <td>0.81</td>\n",
       "      <td>0.73</td>\n",
       "      <td>0.08</td>\n",
       "    </tr>\n",
       "    <tr>\n",
       "      <th>6_neighbors</th>\n",
       "      <td>0.80</td>\n",
       "      <td>0.72</td>\n",
       "      <td>0.08</td>\n",
       "    </tr>\n",
       "    <tr>\n",
       "      <th>7_neighbors</th>\n",
       "      <td>0.79</td>\n",
       "      <td>0.72</td>\n",
       "      <td>0.07</td>\n",
       "    </tr>\n",
       "    <tr>\n",
       "      <th>8_neighbors</th>\n",
       "      <td>0.79</td>\n",
       "      <td>0.73</td>\n",
       "      <td>0.06</td>\n",
       "    </tr>\n",
       "    <tr>\n",
       "      <th>9_neighbors</th>\n",
       "      <td>0.79</td>\n",
       "      <td>0.73</td>\n",
       "      <td>0.06</td>\n",
       "    </tr>\n",
       "    <tr>\n",
       "      <th>10_neighbors</th>\n",
       "      <td>0.78</td>\n",
       "      <td>0.71</td>\n",
       "      <td>0.07</td>\n",
       "    </tr>\n",
       "    <tr>\n",
       "      <th>11_neighbors</th>\n",
       "      <td>0.79</td>\n",
       "      <td>0.72</td>\n",
       "      <td>0.07</td>\n",
       "    </tr>\n",
       "    <tr>\n",
       "      <th>12_neighbors</th>\n",
       "      <td>0.78</td>\n",
       "      <td>0.71</td>\n",
       "      <td>0.07</td>\n",
       "    </tr>\n",
       "    <tr>\n",
       "      <th>13_neighbors</th>\n",
       "      <td>0.77</td>\n",
       "      <td>0.70</td>\n",
       "      <td>0.07</td>\n",
       "    </tr>\n",
       "    <tr>\n",
       "      <th>14_neighbors</th>\n",
       "      <td>0.77</td>\n",
       "      <td>0.69</td>\n",
       "      <td>0.08</td>\n",
       "    </tr>\n",
       "    <tr>\n",
       "      <th>15_neighbors</th>\n",
       "      <td>0.77</td>\n",
       "      <td>0.68</td>\n",
       "      <td>0.09</td>\n",
       "    </tr>\n",
       "    <tr>\n",
       "      <th>16_neighbors</th>\n",
       "      <td>0.77</td>\n",
       "      <td>0.66</td>\n",
       "      <td>0.11</td>\n",
       "    </tr>\n",
       "    <tr>\n",
       "      <th>17_neighbors</th>\n",
       "      <td>0.77</td>\n",
       "      <td>0.65</td>\n",
       "      <td>0.12</td>\n",
       "    </tr>\n",
       "    <tr>\n",
       "      <th>18_neighbors</th>\n",
       "      <td>0.76</td>\n",
       "      <td>0.66</td>\n",
       "      <td>0.10</td>\n",
       "    </tr>\n",
       "    <tr>\n",
       "      <th>19_neighbors</th>\n",
       "      <td>0.76</td>\n",
       "      <td>0.66</td>\n",
       "      <td>0.10</td>\n",
       "    </tr>\n",
       "    <tr>\n",
       "      <th>20_neighbors</th>\n",
       "      <td>0.74</td>\n",
       "      <td>0.66</td>\n",
       "      <td>0.08</td>\n",
       "    </tr>\n",
       "  </tbody>\n",
       "</table>\n",
       "</div>"
      ],
      "text/plain": [
       "              train_score  validate_score  diff_score\n",
       "1_neighbors          0.93            0.69        0.24\n",
       "2_neighbors          0.86            0.72        0.14\n",
       "3_neighbors          0.85            0.73        0.12\n",
       "4_neighbors          0.82            0.74        0.08\n",
       "5_neighbors          0.81            0.73        0.08\n",
       "6_neighbors          0.80            0.72        0.08\n",
       "7_neighbors          0.79            0.72        0.07\n",
       "8_neighbors          0.79            0.73        0.06\n",
       "9_neighbors          0.79            0.73        0.06\n",
       "10_neighbors         0.78            0.71        0.07\n",
       "11_neighbors         0.79            0.72        0.07\n",
       "12_neighbors         0.78            0.71        0.07\n",
       "13_neighbors         0.77            0.70        0.07\n",
       "14_neighbors         0.77            0.69        0.08\n",
       "15_neighbors         0.77            0.68        0.09\n",
       "16_neighbors         0.77            0.66        0.11\n",
       "17_neighbors         0.77            0.65        0.12\n",
       "18_neighbors         0.76            0.66        0.10\n",
       "19_neighbors         0.76            0.66        0.10\n",
       "20_neighbors         0.74            0.66        0.08"
      ]
     },
     "execution_count": 22,
     "metadata": {},
     "output_type": "execute_result"
    }
   ],
   "source": [
    "knn_model_accuracies(x_train, y_train, x_validate, y_validate)"
   ]
  },
  {
   "cell_type": "code",
   "execution_count": 39,
   "id": "abb8d1d7-cd15-4fda-8613-e8cb4fb10997",
   "metadata": {},
   "outputs": [],
   "source": [
    "knn4 = KNeighborsClassifier(n_neighbors=4)"
   ]
  },
  {
   "cell_type": "code",
   "execution_count": 40,
   "id": "a53fb8be-a5d3-489f-90fa-134405a031b4",
   "metadata": {},
   "outputs": [
    {
     "data": {
      "text/plain": [
       "KNeighborsClassifier(n_neighbors=4)"
      ]
     },
     "execution_count": 40,
     "metadata": {},
     "output_type": "execute_result"
    }
   ],
   "source": [
    "knn4.fit(x_train, y_train)"
   ]
  },
  {
   "cell_type": "markdown",
   "id": "e4d7124d",
   "metadata": {},
   "source": [
    "3. Print and clearly label the following: Accuracy, true positive rate, false positive rate, true negative rate, false negative rate, precision, recall, f1-score, and support."
   ]
  },
  {
   "cell_type": "markdown",
   "id": "d96a9b50",
   "metadata": {
    "tags": []
   },
   "source": [
    "4. Run through steps 1-3 setting k to 10"
   ]
  },
  {
   "cell_type": "markdown",
   "id": "25696340",
   "metadata": {},
   "source": [
    "5. Run through steps 1-3 setting k to 20"
   ]
  },
  {
   "cell_type": "code",
   "execution_count": 32,
   "id": "4b6eff49-44c9-4b81-8209-7e40935bdb34",
   "metadata": {},
   "outputs": [
    {
     "name": "stdout",
     "output_type": "stream",
     "text": [
      "Accuracy of KNN (k=8) classifier on validate set: 0.73\n",
      "     \n",
      "Accuracy of KNN (k=5) classifier on validate set: 0.73\n"
     ]
    }
   ],
   "source": [
    "print(f\"\"\"Accuracy of KNN (k=8) classifier on validate set: {knn8.score(x_validate, y_validate):.2f}\n",
    "     \n",
    "Accuracy of KNN (k=5) classifier on validate set: {knn5.score(x_validate, y_validate):.2f}\"\"\")"
   ]
  },
  {
   "cell_type": "code",
   "execution_count": 33,
   "id": "b4ad48ff-cc6b-49bf-a19d-ebaa89617624",
   "metadata": {},
   "outputs": [
    {
     "name": "stdout",
     "output_type": "stream",
     "text": [
      "              precision    recall  f1-score   support\n",
      "\n",
      "           0       0.85      0.85      0.85       329\n",
      "           1       0.76      0.76      0.76       205\n",
      "\n",
      "    accuracy                           0.81       534\n",
      "   macro avg       0.80      0.80      0.80       534\n",
      "weighted avg       0.81      0.81      0.81       534\n",
      "\n"
     ]
    }
   ],
   "source": [
    "print(classification_report(y_train, y_pred5))"
   ]
  },
  {
   "cell_type": "code",
   "execution_count": 27,
   "id": "9e0bc24e-9eb0-4b7a-9293-52b608233c1e",
   "metadata": {
    "jupyter": {
     "source_hidden": true
    },
    "tags": []
   },
   "outputs": [],
   "source": [
    "#VIZ\n",
    "def knn_viz_20(x_train, y_train, x_validate, y_validate):\n",
    "    '''\n",
    "    This function helps visualize your knn results by fitting the given arguments (x_train, y_train, x_validate, y_validate)\n",
    "    and using these features with the KNeighborsClassifier to calculate through an iteration of 20 and find a train score and validation score and producing the vsual plot\n",
    "    '''\n",
    "    metrics = []\n",
    "\n",
    "    for k in range(1,21):\n",
    "\n",
    "        # MAKE the thing\n",
    "        knn = KNeighborsClassifier(n_neighbors=k)\n",
    "\n",
    "        # FIT the thing (remember only fit on training data)\n",
    "        knn.fit(x_train, y_train)\n",
    "\n",
    "        # USE the thing (calculate accuracy)\n",
    "        train_score = knn.score(x_train, y_train)\n",
    "        validate_score = knn.score(x_validate, y_validate)\n",
    "\n",
    "        output = {\n",
    "            \"k\": k,\n",
    "            \"train_score\": train_score,\n",
    "            \"validate_score\": validate_score\n",
    "        }\n",
    "\n",
    "        metrics.append(output)\n",
    "\n",
    "    #conver to df\n",
    "    results = pd.DataFrame(metrics)\n",
    "\n",
    "    # plot the data\n",
    "    results.set_index('k').plot(figsize = (16,9))\n",
    "    plt.ylabel('Accuracy')\n",
    "    plt.xticks(np.arange(0,21,1))\n",
    "    plt.grid()"
   ]
  },
  {
   "cell_type": "code",
   "execution_count": 28,
   "id": "929190fe-03ac-47a1-a457-8cebd71a812a",
   "metadata": {
    "jupyter": {
     "source_hidden": true
    },
    "tags": []
   },
   "outputs": [
    {
     "data": {
      "image/png": "[encoded data removed]",
      "text/plain": [
       "<Figure size 1600x900 with 1 Axes>"
      ]
     },
     "metadata": {},
     "output_type": "display_data"
    }
   ],
   "source": [
    "mod.knn_viz_20(x_train, y_train, x_validate, y_validate)"
   ]
  },
  {
   "cell_type": "markdown",
   "id": "d926f6cd",
   "metadata": {},
   "source": [
    "6. What are the differences in the evaluation metrics? Which performs better on your in-sample data? Why?"
   ]
  },
  {
   "cell_type": "markdown",
   "id": "f9d0e3bc-8c16-4ca7-b810-83ff22c5a55e",
   "metadata": {},
   "source": [
    "The better performing model in n_neighbors=1, it has the best fit without losing a lot of accuracy1"
   ]
  },
  {
   "cell_type": "markdown",
   "id": "2b9f1428",
   "metadata": {},
   "source": [
    "7. Which model performs best on our out-of-sample data from validate?"
   ]
  },
  {
   "cell_type": "markdown",
   "id": "9899d4f1-330f-49cc-92bf-42b32eeedd25",
   "metadata": {},
   "source": [
    "n_neighbor = 8 performs the best "
   ]
  }
 ],
 "metadata": {
  "kernelspec": {
   "display_name": "Python 3 (ipykernel)",
   "language": "python",
   "name": "python3"
  },
  "language_info": {
   "codemirror_mode": {
    "name": "ipython",
    "version": 3
   },
   "file_extension": ".py",
   "mimetype": "text/x-python",
   "name": "python",
   "nbconvert_exporter": "python",
   "pygments_lexer": "ipython3",
   "version": "3.9.13"
  }
 },
 "nbformat": 4,
 "nbformat_minor": 5
}
