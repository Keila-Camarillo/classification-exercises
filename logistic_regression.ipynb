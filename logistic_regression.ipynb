{
 "cells": [
  {
   "cell_type": "code",
   "execution_count": 38,
   "id": "bff61207-7091-440e-89f8-0aa1cb4a3d33",
   "metadata": {
    "tags": []
   },
   "outputs": [],
   "source": [
    "import numpy as np\n",
    "import pandas as pd\n",
    "\n",
    "from sklearn.model_selection import train_test_split\n",
    "from sklearn.linear_model import LogisticRegression\n",
    "from sklearn.metrics import classification_report\n",
    "from sklearn.metrics import confusion_matrix\n",
    "\n",
    "# ignore warnings\n",
    "import warnings\n",
    "warnings.filterwarnings(\"ignore\")\n",
    "\n",
    "# matplotlib inline\n",
    "import matplotlib.pyplot as plt\n",
    "import seaborn as sns\n",
    "\n",
    "from pydataset import data\n",
    "\n",
    "import prepare as prep \n",
    "import acquire as acq\n",
    "import modeling as mod"
   ]
  },
  {
   "cell_type": "markdown",
   "id": "afe972bd-d572-4f32-a306-cb3334047e01",
   "metadata": {},
   "source": [
    "1. Create a model that includes only age, fare, and pclass. Does this model perform better than your baseline?"
   ]
  },
  {
   "cell_type": "code",
   "execution_count": 32,
   "id": "e021b3b9-7034-4517-9fc5-caed4ae1a6d2",
   "metadata": {
    "tags": []
   },
   "outputs": [],
   "source": [
    "train, validate, test = prep.get_prep_split_titanic()"
   ]
  },
  {
   "cell_type": "code",
   "execution_count": 33,
   "id": "39a64fcd-98eb-458d-a34d-3a2328df7224",
   "metadata": {
    "tags": []
   },
   "outputs": [
    {
     "data": {
      "text/html": [
       "<div>\n",
       "<style scoped>\n",
       "    .dataframe tbody tr th:only-of-type {\n",
       "        vertical-align: middle;\n",
       "    }\n",
       "\n",
       "    .dataframe tbody tr th {\n",
       "        vertical-align: top;\n",
       "    }\n",
       "\n",
       "    .dataframe thead th {\n",
       "        text-align: right;\n",
       "    }\n",
       "</style>\n",
       "<table border=\"1\" class=\"dataframe\">\n",
       "  <thead>\n",
       "    <tr style=\"text-align: right;\">\n",
       "      <th></th>\n",
       "      <th>passenger_id</th>\n",
       "      <th>survived</th>\n",
       "      <th>pclass</th>\n",
       "      <th>sex</th>\n",
       "      <th>age</th>\n",
       "      <th>sibsp</th>\n",
       "      <th>parch</th>\n",
       "      <th>fare</th>\n",
       "      <th>embarked</th>\n",
       "      <th>alone</th>\n",
       "      <th>sex_male</th>\n",
       "      <th>embarked_Q</th>\n",
       "      <th>embarked_S</th>\n",
       "    </tr>\n",
       "  </thead>\n",
       "  <tbody>\n",
       "    <tr>\n",
       "      <th>455</th>\n",
       "      <td>455</td>\n",
       "      <td>1</td>\n",
       "      <td>3</td>\n",
       "      <td>male</td>\n",
       "      <td>29.0</td>\n",
       "      <td>0</td>\n",
       "      <td>0</td>\n",
       "      <td>7.8958</td>\n",
       "      <td>C</td>\n",
       "      <td>1</td>\n",
       "      <td>1</td>\n",
       "      <td>0</td>\n",
       "      <td>0</td>\n",
       "    </tr>\n",
       "    <tr>\n",
       "      <th>380</th>\n",
       "      <td>380</td>\n",
       "      <td>1</td>\n",
       "      <td>1</td>\n",
       "      <td>female</td>\n",
       "      <td>42.0</td>\n",
       "      <td>0</td>\n",
       "      <td>0</td>\n",
       "      <td>227.5250</td>\n",
       "      <td>C</td>\n",
       "      <td>1</td>\n",
       "      <td>0</td>\n",
       "      <td>0</td>\n",
       "      <td>0</td>\n",
       "    </tr>\n",
       "    <tr>\n",
       "      <th>492</th>\n",
       "      <td>492</td>\n",
       "      <td>0</td>\n",
       "      <td>1</td>\n",
       "      <td>male</td>\n",
       "      <td>55.0</td>\n",
       "      <td>0</td>\n",
       "      <td>0</td>\n",
       "      <td>30.5000</td>\n",
       "      <td>S</td>\n",
       "      <td>1</td>\n",
       "      <td>1</td>\n",
       "      <td>0</td>\n",
       "      <td>1</td>\n",
       "    </tr>\n",
       "    <tr>\n",
       "      <th>55</th>\n",
       "      <td>55</td>\n",
       "      <td>1</td>\n",
       "      <td>1</td>\n",
       "      <td>male</td>\n",
       "      <td>NaN</td>\n",
       "      <td>0</td>\n",
       "      <td>0</td>\n",
       "      <td>35.5000</td>\n",
       "      <td>S</td>\n",
       "      <td>1</td>\n",
       "      <td>1</td>\n",
       "      <td>0</td>\n",
       "      <td>1</td>\n",
       "    </tr>\n",
       "    <tr>\n",
       "      <th>243</th>\n",
       "      <td>243</td>\n",
       "      <td>0</td>\n",
       "      <td>3</td>\n",
       "      <td>male</td>\n",
       "      <td>22.0</td>\n",
       "      <td>0</td>\n",
       "      <td>0</td>\n",
       "      <td>7.1250</td>\n",
       "      <td>S</td>\n",
       "      <td>1</td>\n",
       "      <td>1</td>\n",
       "      <td>0</td>\n",
       "      <td>1</td>\n",
       "    </tr>\n",
       "    <tr>\n",
       "      <th>...</th>\n",
       "      <td>...</td>\n",
       "      <td>...</td>\n",
       "      <td>...</td>\n",
       "      <td>...</td>\n",
       "      <td>...</td>\n",
       "      <td>...</td>\n",
       "      <td>...</td>\n",
       "      <td>...</td>\n",
       "      <td>...</td>\n",
       "      <td>...</td>\n",
       "      <td>...</td>\n",
       "      <td>...</td>\n",
       "      <td>...</td>\n",
       "    </tr>\n",
       "    <tr>\n",
       "      <th>695</th>\n",
       "      <td>695</td>\n",
       "      <td>0</td>\n",
       "      <td>2</td>\n",
       "      <td>male</td>\n",
       "      <td>52.0</td>\n",
       "      <td>0</td>\n",
       "      <td>0</td>\n",
       "      <td>13.5000</td>\n",
       "      <td>S</td>\n",
       "      <td>1</td>\n",
       "      <td>1</td>\n",
       "      <td>0</td>\n",
       "      <td>1</td>\n",
       "    </tr>\n",
       "    <tr>\n",
       "      <th>128</th>\n",
       "      <td>128</td>\n",
       "      <td>1</td>\n",
       "      <td>3</td>\n",
       "      <td>female</td>\n",
       "      <td>NaN</td>\n",
       "      <td>1</td>\n",
       "      <td>1</td>\n",
       "      <td>22.3583</td>\n",
       "      <td>C</td>\n",
       "      <td>0</td>\n",
       "      <td>0</td>\n",
       "      <td>0</td>\n",
       "      <td>0</td>\n",
       "    </tr>\n",
       "    <tr>\n",
       "      <th>636</th>\n",
       "      <td>636</td>\n",
       "      <td>0</td>\n",
       "      <td>3</td>\n",
       "      <td>male</td>\n",
       "      <td>32.0</td>\n",
       "      <td>0</td>\n",
       "      <td>0</td>\n",
       "      <td>7.9250</td>\n",
       "      <td>S</td>\n",
       "      <td>1</td>\n",
       "      <td>1</td>\n",
       "      <td>0</td>\n",
       "      <td>1</td>\n",
       "    </tr>\n",
       "    <tr>\n",
       "      <th>222</th>\n",
       "      <td>222</td>\n",
       "      <td>0</td>\n",
       "      <td>3</td>\n",
       "      <td>male</td>\n",
       "      <td>51.0</td>\n",
       "      <td>0</td>\n",
       "      <td>0</td>\n",
       "      <td>8.0500</td>\n",
       "      <td>S</td>\n",
       "      <td>1</td>\n",
       "      <td>1</td>\n",
       "      <td>0</td>\n",
       "      <td>1</td>\n",
       "    </tr>\n",
       "    <tr>\n",
       "      <th>496</th>\n",
       "      <td>496</td>\n",
       "      <td>1</td>\n",
       "      <td>1</td>\n",
       "      <td>female</td>\n",
       "      <td>54.0</td>\n",
       "      <td>1</td>\n",
       "      <td>0</td>\n",
       "      <td>78.2667</td>\n",
       "      <td>C</td>\n",
       "      <td>0</td>\n",
       "      <td>0</td>\n",
       "      <td>0</td>\n",
       "      <td>0</td>\n",
       "    </tr>\n",
       "  </tbody>\n",
       "</table>\n",
       "<p>534 rows × 13 columns</p>\n",
       "</div>"
      ],
      "text/plain": [
       "     passenger_id  survived  pclass     sex   age  sibsp  parch      fare  \\\n",
       "455           455         1       3    male  29.0      0      0    7.8958   \n",
       "380           380         1       1  female  42.0      0      0  227.5250   \n",
       "492           492         0       1    male  55.0      0      0   30.5000   \n",
       "55             55         1       1    male   NaN      0      0   35.5000   \n",
       "243           243         0       3    male  22.0      0      0    7.1250   \n",
       "..            ...       ...     ...     ...   ...    ...    ...       ...   \n",
       "695           695         0       2    male  52.0      0      0   13.5000   \n",
       "128           128         1       3  female   NaN      1      1   22.3583   \n",
       "636           636         0       3    male  32.0      0      0    7.9250   \n",
       "222           222         0       3    male  51.0      0      0    8.0500   \n",
       "496           496         1       1  female  54.0      1      0   78.2667   \n",
       "\n",
       "    embarked  alone  sex_male  embarked_Q  embarked_S  \n",
       "455        C      1         1           0           0  \n",
       "380        C      1         0           0           0  \n",
       "492        S      1         1           0           1  \n",
       "55         S      1         1           0           1  \n",
       "243        S      1         1           0           1  \n",
       "..       ...    ...       ...         ...         ...  \n",
       "695        S      1         1           0           1  \n",
       "128        C      0         0           0           0  \n",
       "636        S      1         1           0           1  \n",
       "222        S      1         1           0           1  \n",
       "496        C      0         0           0           0  \n",
       "\n",
       "[534 rows x 13 columns]"
      ]
     },
     "execution_count": 33,
     "metadata": {},
     "output_type": "execute_result"
    }
   ],
   "source": [
    "train"
   ]
  },
  {
   "cell_type": "code",
   "execution_count": 240,
   "id": "5bc92ae4-a705-478f-a662-a8ca52d30a99",
   "metadata": {
    "tags": []
   },
   "outputs": [
    {
     "name": "stdout",
     "output_type": "stream",
     "text": [
      "<class 'pandas.core.frame.DataFrame'>\n",
      "Int64Index: 534 entries, 455 to 496\n",
      "Data columns (total 3 columns):\n",
      " #   Column  Non-Null Count  Dtype  \n",
      "---  ------  --------------  -----  \n",
      " 0   age     534 non-null    float64\n",
      " 1   fare    534 non-null    float64\n",
      " 2   pclass  534 non-null    int64  \n",
      "dtypes: float64(2), int64(1)\n",
      "memory usage: 16.7 KB\n"
     ]
    }
   ],
   "source": [
    "# train x & y\n",
    "x_train1 = train[[\"age\", \"fare\", \"pclass\"]]\n",
    "x_train1[\"age\"] = x_train1.age.fillna(29)\n",
    "y_train1 = train.survived\n",
    "baseline_prediction = y_train1.mode()\n"
   ]
  },
  {
   "cell_type": "code",
   "execution_count": 183,
   "id": "3357eb95-acb9-4587-a70e-6268e2524cf3",
   "metadata": {
    "tags": []
   },
   "outputs": [
    {
     "data": {
      "text/plain": [
       "0    0\n",
       "Name: survived, dtype: int64"
      ]
     },
     "execution_count": 183,
     "metadata": {},
     "output_type": "execute_result"
    }
   ],
   "source": [
    "baseline_prediction"
   ]
  },
  {
   "cell_type": "code",
   "execution_count": 184,
   "id": "89a9ca8c-e3ca-4210-92df-4bf9fc853d21",
   "metadata": {
    "tags": []
   },
   "outputs": [
    {
     "data": {
      "text/plain": [
       "0      0\n",
       "1      0\n",
       "2      0\n",
       "3      0\n",
       "4      0\n",
       "      ..\n",
       "529    0\n",
       "530    0\n",
       "531    0\n",
       "532    0\n",
       "533    0\n",
       "Length: 534, dtype: int64"
      ]
     },
     "execution_count": 184,
     "metadata": {},
     "output_type": "execute_result"
    }
   ],
   "source": [
    "pd.Series(baseline_prediction[0], range(len(y_train1)))"
   ]
  },
  {
   "cell_type": "code",
   "execution_count": 185,
   "id": "e91a5cb1-9204-401c-b1eb-b8edc8428974",
   "metadata": {
    "tags": []
   },
   "outputs": [],
   "source": [
    "# create function to establish baseline\n",
    "def establish_baseline(y_train):\n",
    "    #est baseline\n",
    "    baseline_prediction = y_train.mode()\n",
    "    \n",
    "    #create series of prediction with that baseline val\n",
    "    #same len as y_train\n",
    "    y_train_pred = pd.Series((baseline_prediction[0]), range(len(y_train)))\n",
    "    \n",
    "    #compute the confusion matrix for Accuracy\n",
    "    cm= confusion_matrix(y_train, y_train_pred)\n",
    "    tn, fp, fn, tp = cm.ravel()\n",
    "    \n",
    "    accuracy = (tp+tn) / (tp+tn+fp+fn)\n",
    "    \n",
    "    return accuracy"
   ]
  },
  {
   "cell_type": "code",
   "execution_count": 186,
   "id": "66f0466c-d7f9-44da-a3b7-2aefa5b1e1fe",
   "metadata": {
    "tags": []
   },
   "outputs": [
    {
     "data": {
      "text/plain": [
       "0.6161048689138576"
      ]
     },
     "execution_count": 186,
     "metadata": {},
     "output_type": "execute_result"
    }
   ],
   "source": [
    "# baseline accuracy\n",
    "establish_baseline(y_train1)"
   ]
  },
  {
   "cell_type": "code",
   "execution_count": 187,
   "id": "b9d8249e-b9ff-4eb8-bc14-aa3bd7bedcfa",
   "metadata": {
    "tags": []
   },
   "outputs": [],
   "source": [
    "x_validate1 = validate[[\"age\", \"fare\", \"pclass\"]]\n",
    "x_validate1[\"age\"] = x_validate1.age.fillna(29)\n",
    "y_validate1 = validate.survived"
   ]
  },
  {
   "cell_type": "code",
   "execution_count": 188,
   "id": "db5d325e-c894-4d1f-b11a-0d8c6eaafeb8",
   "metadata": {
    "tags": []
   },
   "outputs": [],
   "source": [
    "x_test1 = test[[\"age\", \"fare\", \"pclass\"]]\n",
    "x_test1[\"age\"] = x_test1.age.fillna(29)\n",
    "y_test1 = test.survived"
   ]
  },
  {
   "cell_type": "code",
   "execution_count": 189,
   "id": "56c4df07-3240-4e44-a727-8bf8b2f19427",
   "metadata": {
    "tags": []
   },
   "outputs": [
    {
     "data": {
      "text/plain": [
       "LogisticRegression(random_state=123)"
      ]
     },
     "execution_count": 189,
     "metadata": {},
     "output_type": "execute_result"
    }
   ],
   "source": [
    "logit1 = LogisticRegression(random_state=123)\n",
    "logit1.fit(x_train1, y_train1)"
   ]
  },
  {
   "cell_type": "code",
   "execution_count": 190,
   "id": "75b96ccf-e2f8-4e1c-bcd9-b5ce4d2901d0",
   "metadata": {
    "tags": []
   },
   "outputs": [],
   "source": [
    "def coef_weight(logit):\n",
    "    print('Coefficient: \\n', logit.coef_)\n",
    "    print('Intercept: \\n', logit.intercept_)"
   ]
  },
  {
   "cell_type": "code",
   "execution_count": 191,
   "id": "816af15b-3dbe-479e-8fbf-16ce800bb4b4",
   "metadata": {
    "tags": []
   },
   "outputs": [
    {
     "name": "stdout",
     "output_type": "stream",
     "text": [
      "Coefficient: \n",
      " [[-0.0294718   0.00226405 -0.92631523]]\n",
      "Intercept: \n",
      " [2.42588444]\n"
     ]
    }
   ],
   "source": [
    "coef_weight(logit1)"
   ]
  },
  {
   "cell_type": "code",
   "execution_count": 192,
   "id": "ea42d10d-45d7-48bf-9259-359a36d3490a",
   "metadata": {
    "tags": []
   },
   "outputs": [],
   "source": [
    "def predictions(x_train, logit):    \n",
    "    y_pred = logit.predict(x_train)\n",
    "    y_pred_proba = logit.predict_proba(x_train)\n",
    "    return y_pred, y_pred_proba       "
   ]
  },
  {
   "cell_type": "code",
   "execution_count": 193,
   "id": "21f72dfa-9842-46d3-80fa-3c705e7d63e9",
   "metadata": {
    "tags": []
   },
   "outputs": [],
   "source": [
    "y_pred, y_pred_proba = predictions(x_train1, logit1)"
   ]
  },
  {
   "cell_type": "code",
   "execution_count": 194,
   "id": "1d25b4af-a2f6-4967-9b98-180cd69ee0f3",
   "metadata": {
    "tags": []
   },
   "outputs": [
    {
     "data": {
      "text/plain": [
       "array([[0.76671728, 0.23328272],\n",
       "       [0.31499246, 0.68500754],\n",
       "       [0.51307863, 0.48692137],\n",
       "       ...,\n",
       "       [0.78214601, 0.21785399],\n",
       "       [0.86269987, 0.13730013],\n",
       "       [0.47869005, 0.52130995]])"
      ]
     },
     "execution_count": 194,
     "metadata": {},
     "output_type": "execute_result"
    }
   ],
   "source": [
    "y_pred_proba"
   ]
  },
  {
   "cell_type": "code",
   "execution_count": 195,
   "id": "71f7164d-f625-4c4a-b226-ab7a198b27eb",
   "metadata": {
    "tags": []
   },
   "outputs": [
    {
     "name": "stdout",
     "output_type": "stream",
     "text": [
      "Accuracy of Logistic Regression classifier on training set: 0.71\n"
     ]
    }
   ],
   "source": [
    "print('Accuracy of Logistic Regression classifier on training set: {:.2f}'\n",
    "     .format(logit1.score(x_train1, y_train1)))\n"
   ]
  },
  {
   "cell_type": "code",
   "execution_count": 196,
   "id": "c5fc1041-ba7d-4790-8b1a-1e36e794bcf2",
   "metadata": {
    "tags": []
   },
   "outputs": [
    {
     "name": "stdout",
     "output_type": "stream",
     "text": [
      "[[287  42]\n",
      " [115  90]]\n"
     ]
    }
   ],
   "source": [
    "print(confusion_matrix(y_train1, y_pred))"
   ]
  },
  {
   "cell_type": "markdown",
   "id": "d232774e-e36a-4807-9380-6bf8254fe5e4",
   "metadata": {},
   "source": [
    "* true positive = predict did not survive, did not survived\n",
    "* true negative = predict survive, did survive\n"
   ]
  },
  {
   "cell_type": "code",
   "execution_count": 139,
   "id": "bd4d17e6-8dcc-4f7f-8073-6d067306096b",
   "metadata": {
    "tags": []
   },
   "outputs": [
    {
     "name": "stdout",
     "output_type": "stream",
     "text": [
      "              precision    recall  f1-score   support\n",
      "\n",
      "           0       0.71      0.87      0.79       329\n",
      "           1       0.68      0.44      0.53       205\n",
      "\n",
      "    accuracy                           0.71       534\n",
      "   macro avg       0.70      0.66      0.66       534\n",
      "weighted avg       0.70      0.71      0.69       534\n",
      "\n"
     ]
    }
   ],
   "source": [
    "print(classification_report(y_train1, y_pred))"
   ]
  },
  {
   "cell_type": "markdown",
   "id": "95b99d62-725a-47a5-90dc-4469488a92e8",
   "metadata": {},
   "source": [
    "2. Include sex in your model as well. Note that you'll need to encode or create a dummy variable of this feature before including it in a model."
   ]
  },
  {
   "cell_type": "code",
   "execution_count": 140,
   "id": "7fac8d27-121d-490e-a65c-2685fe754d48",
   "metadata": {
    "tags": []
   },
   "outputs": [],
   "source": [
    "train[\"age\"] = train.age.fillna(29)\n",
    "x_train2 = train[[\"age\", \"fare\", \"pclass\", \"sex_male\"]]\n",
    "y_train2 = train.survived"
   ]
  },
  {
   "cell_type": "code",
   "execution_count": 141,
   "id": "8054f9a0-aaf2-4a63-9cf7-caa2980bf626",
   "metadata": {
    "tags": []
   },
   "outputs": [],
   "source": [
    "validate[\"age\"] = validate.age.fillna(29)\n",
    "x_validate2 = validate[[\"age\", \"fare\", \"pclass\", \"sex_male\"]]\n",
    "y_validate2 = validate.survived"
   ]
  },
  {
   "cell_type": "code",
   "execution_count": 142,
   "id": "d3a88113-080a-4f15-a30a-79aa543df9b8",
   "metadata": {
    "tags": []
   },
   "outputs": [],
   "source": [
    "test[\"age\"] = test.age.fillna(29)\n",
    "x_test2 = test[[\"age\", \"fare\", \"pclass\", \"sex_male\"]]\n",
    "y_test2 = test.survived"
   ]
  },
  {
   "cell_type": "code",
   "execution_count": 143,
   "id": "1c9d2568-837b-4a19-ba9a-826f0e7eae31",
   "metadata": {
    "tags": []
   },
   "outputs": [
    {
     "data": {
      "text/plain": [
       "LogisticRegression(random_state=123)"
      ]
     },
     "execution_count": 143,
     "metadata": {},
     "output_type": "execute_result"
    }
   ],
   "source": [
    "logit2 = LogisticRegression(random_state=123)\n",
    "logit2.fit(x_train2, y_train2)"
   ]
  },
  {
   "cell_type": "code",
   "execution_count": 144,
   "id": "e26e68b2-33e5-499a-a08d-71756dd3a6f3",
   "metadata": {
    "tags": []
   },
   "outputs": [
    {
     "name": "stdout",
     "output_type": "stream",
     "text": [
      "Accuracy of Logistic Regression classifier on training set: 0.81\n"
     ]
    }
   ],
   "source": [
    "y_pred, y_pred_proba = predictions(x_train2, logit2)\n",
    "print('Accuracy of Logistic Regression classifier on training set: {:.2f}'\n",
    "     .format(logit2.score(x_train2, y_train2)))"
   ]
  },
  {
   "cell_type": "code",
   "execution_count": 145,
   "id": "d4b7df6e-b122-440e-bab8-2ba309947071",
   "metadata": {
    "tags": []
   },
   "outputs": [
    {
     "name": "stdout",
     "output_type": "stream",
     "text": [
      "[[282  47]\n",
      " [ 57 148]]\n"
     ]
    }
   ],
   "source": [
    "print(confusion_matrix(y_train2, y_pred))"
   ]
  },
  {
   "cell_type": "code",
   "execution_count": 146,
   "id": "fc6211fb-f447-4266-a6b6-4be407617e83",
   "metadata": {
    "tags": []
   },
   "outputs": [
    {
     "name": "stdout",
     "output_type": "stream",
     "text": [
      "              precision    recall  f1-score   support\n",
      "\n",
      "           0       0.83      0.86      0.84       329\n",
      "           1       0.76      0.72      0.74       205\n",
      "\n",
      "    accuracy                           0.81       534\n",
      "   macro avg       0.80      0.79      0.79       534\n",
      "weighted avg       0.80      0.81      0.80       534\n",
      "\n"
     ]
    }
   ],
   "source": [
    "print(classification_report(y_train2, y_pred))"
   ]
  },
  {
   "cell_type": "markdown",
   "id": "578dc849-4581-42bb-b952-107029ada49a",
   "metadata": {},
   "source": [
    "3. Try out other combinations of features and models."
   ]
  },
  {
   "cell_type": "code",
   "execution_count": 208,
   "id": "3e0a0a04-bc4c-40ac-8828-51477600cfab",
   "metadata": {
    "tags": []
   },
   "outputs": [
    {
     "data": {
      "text/plain": [
       "LogisticRegression(C=0.1, random_state=123)"
      ]
     },
     "execution_count": 208,
     "metadata": {},
     "output_type": "execute_result"
    }
   ],
   "source": [
    "logit3 = LogisticRegression(C=.1, random_state=123)\n",
    "logit3.fit(x_train2, y_train2)"
   ]
  },
  {
   "cell_type": "code",
   "execution_count": 209,
   "id": "6cc92b8a-4e7e-4650-8f46-b76be1cc4a12",
   "metadata": {
    "tags": []
   },
   "outputs": [
    {
     "name": "stdout",
     "output_type": "stream",
     "text": [
      "Accuracy of Logistic Regression classifier on training set: 0.80\n"
     ]
    }
   ],
   "source": [
    "y_pred, y_pred_proba = predictions(x_train2, logit3)\n",
    "print('Accuracy of Logistic Regression classifier on training set: {:.2f}'\n",
    "     .format(logit3.score(x_train2, y_train2)))"
   ]
  },
  {
   "cell_type": "code",
   "execution_count": 210,
   "id": "8cfc0037-6f62-4cdf-866b-d0108c35095f",
   "metadata": {
    "tags": []
   },
   "outputs": [],
   "source": [
    "x_train3 = train[[\"pclass\", \"fare\", \"alone\", \"sex_male\"]]\n",
    "y_train3 = train.survived"
   ]
  },
  {
   "cell_type": "code",
   "execution_count": 219,
   "id": "a387da11-1e84-4f47-9a24-a8101eddb82f",
   "metadata": {
    "tags": []
   },
   "outputs": [],
   "source": [
    "x_validate3 = validate[[\"pclass\", \"fare\", \"alone\", \"sex_male\"]]\n",
    "y_validate3 = validate.survived"
   ]
  },
  {
   "cell_type": "code",
   "execution_count": 212,
   "id": "24457e7b-a43f-4017-918c-34ffe56442dd",
   "metadata": {
    "tags": []
   },
   "outputs": [],
   "source": [
    "x_test3 = test[[\"pclass\", \"fare\", \"alone\", \"sex_male\"]]\n",
    "y_test3 = test.survived"
   ]
  },
  {
   "cell_type": "code",
   "execution_count": 213,
   "id": "d4ca8785-004c-4bd2-b495-962fb650ca07",
   "metadata": {
    "tags": []
   },
   "outputs": [
    {
     "data": {
      "text/plain": [
       "LogisticRegression(random_state=123)"
      ]
     },
     "execution_count": 213,
     "metadata": {},
     "output_type": "execute_result"
    }
   ],
   "source": [
    "logit4 = LogisticRegression(random_state=123)\n",
    "logit4.fit(x_train3, y_train3)"
   ]
  },
  {
   "cell_type": "code",
   "execution_count": 214,
   "id": "4de3e35d-86a8-4d42-9ea6-6323ce5ac5e9",
   "metadata": {
    "tags": []
   },
   "outputs": [
    {
     "name": "stdout",
     "output_type": "stream",
     "text": [
      "Accuracy of Logistic Regression classifier on training set: 0.38\n"
     ]
    }
   ],
   "source": [
    "y_pred, y_pred_proba = predictions(x_train3, logit4)\n",
    "\n",
    "print('Accuracy of Logistic Regression classifier on training set: {:.2f}'\n",
    "     .format(logit3.score(x_train3, y_train3)))"
   ]
  },
  {
   "cell_type": "code",
   "execution_count": 215,
   "id": "95d0ddf1-7106-4533-9497-4d4dbee30fe6",
   "metadata": {
    "tags": []
   },
   "outputs": [
    {
     "name": "stdout",
     "output_type": "stream",
     "text": [
      "[[283  46]\n",
      " [ 65 140]]\n"
     ]
    }
   ],
   "source": [
    "print(confusion_matrix(y_train3, y_pred))"
   ]
  },
  {
   "cell_type": "code",
   "execution_count": 216,
   "id": "448e1131-6720-4b92-bf3e-af317ca691c0",
   "metadata": {
    "tags": []
   },
   "outputs": [
    {
     "name": "stdout",
     "output_type": "stream",
     "text": [
      "              precision    recall  f1-score   support\n",
      "\n",
      "           0       0.81      0.86      0.84       329\n",
      "           1       0.75      0.68      0.72       205\n",
      "\n",
      "    accuracy                           0.79       534\n",
      "   macro avg       0.78      0.77      0.78       534\n",
      "weighted avg       0.79      0.79      0.79       534\n",
      "\n"
     ]
    }
   ],
   "source": [
    "print(classification_report(y_train3, y_pred))"
   ]
  },
  {
   "cell_type": "markdown",
   "id": "66280e7b-8bde-4e2a-8340-e3342026b0da",
   "metadata": {
    "tags": []
   },
   "source": [
    "4. Use you best 3 models to predict and evaluate on your validate sample."
   ]
  },
  {
   "cell_type": "code",
   "execution_count": 231,
   "id": "55b20a22-f5b4-411e-a205-17aab1a0ab4c",
   "metadata": {
    "tags": []
   },
   "outputs": [
    {
     "data": {
      "text/plain": [
       "0.7921348314606742"
      ]
     },
     "execution_count": 231,
     "metadata": {},
     "output_type": "execute_result"
    }
   ],
   "source": [
    "logit4.score(x_train3, y_train3)"
   ]
  },
  {
   "cell_type": "code",
   "execution_count": 230,
   "id": "b03ef19a-1bc6-4c55-ba4e-e561fbc07c5b",
   "metadata": {
    "tags": []
   },
   "outputs": [
    {
     "name": "stdout",
     "output_type": "stream",
     "text": [
      "0.7752808988764045\n"
     ]
    }
   ],
   "source": [
    "logit4.score(x_train3, y_train3)\n",
    "print(logit4.score(x_validate3, y_validate3))"
   ]
  },
  {
   "cell_type": "code",
   "execution_count": 226,
   "id": "98fa47b0-ddbc-4ed4-9981-84c5de7d58b5",
   "metadata": {
    "tags": []
   },
   "outputs": [
    {
     "data": {
      "text/plain": [
       "0.795880149812734"
      ]
     },
     "execution_count": 226,
     "metadata": {},
     "output_type": "execute_result"
    }
   ],
   "source": [
    "logit3.score(x_train2, y_train2)"
   ]
  },
  {
   "cell_type": "code",
   "execution_count": 222,
   "id": "1ed25101-0177-4a50-a40c-665ac54ca80d",
   "metadata": {
    "tags": []
   },
   "outputs": [
    {
     "data": {
      "text/plain": [
       "0.797752808988764"
      ]
     },
     "execution_count": 222,
     "metadata": {},
     "output_type": "execute_result"
    }
   ],
   "source": [
    "logit3.score(x_validate2, y_validate2)"
   ]
  },
  {
   "cell_type": "code",
   "execution_count": 227,
   "id": "7fdaeab8-ce6f-48fd-b65a-6fb795792032",
   "metadata": {
    "tags": []
   },
   "outputs": [
    {
     "data": {
      "text/plain": [
       "0.8052434456928839"
      ]
     },
     "execution_count": 227,
     "metadata": {},
     "output_type": "execute_result"
    }
   ],
   "source": [
    "logit2.score(x_train2, y_train2)"
   ]
  },
  {
   "cell_type": "code",
   "execution_count": 223,
   "id": "81c3517e-7abb-4111-97e6-953d810abc90",
   "metadata": {
    "tags": []
   },
   "outputs": [
    {
     "data": {
      "text/plain": [
       "0.7808988764044944"
      ]
     },
     "execution_count": 223,
     "metadata": {},
     "output_type": "execute_result"
    }
   ],
   "source": [
    "logit2.score(x_validate2, y_validate2)"
   ]
  },
  {
   "cell_type": "markdown",
   "id": "decbff00-128a-4705-b360-6dfadbf4aab6",
   "metadata": {},
   "source": [
    "5. Choose you best model from the validation performation, and evaluate it on the test dataset. How do the performance metrics compare to validate? to train? \n",
    "\n",
    "* The model best suited is logit4 primarily because with adding the age parameter, I had to chage several null values that potentially skewed the data more than I was comfortable with. "
   ]
  },
  {
   "cell_type": "code",
   "execution_count": 232,
   "id": "ea399dc6-d22f-4e4f-960b-15daa263b16a",
   "metadata": {
    "tags": []
   },
   "outputs": [
    {
     "data": {
      "text/plain": [
       "0.7821229050279329"
      ]
     },
     "execution_count": 232,
     "metadata": {},
     "output_type": "execute_result"
    }
   ],
   "source": [
    "logit4.score(x_test3, y_test3)"
   ]
  },
  {
   "cell_type": "markdown",
   "id": "dcf3378a-769c-45b4-8fc1-e413e93eae55",
   "metadata": {},
   "source": [
    "Bonus3: scikit-learn's LogisticRegression classifier is actually applying a regularization penalty to the coefficients by default. This penalty causes the magnitude of the coefficients in the resulting model to be smaller than they otherwise would be. This value can be modified with the C hyper parameter. Small values of C correspond to a larger penalty, and large values of C correspond to a smaller penalty.\n",
    "Try out the following values for C and note how the coefficients and the model's performance on both the dataset it was trained on and on the validate split are affected"
   ]
  },
  {
   "cell_type": "code",
   "execution_count": 245,
   "id": "c138d71e-b781-487e-8b72-85da914f955d",
   "metadata": {
    "tags": []
   },
   "outputs": [
    {
     "data": {
      "text/plain": [
       "LogisticRegression(C=0.01, random_state=123)"
      ]
     },
     "execution_count": 245,
     "metadata": {},
     "output_type": "execute_result"
    }
   ],
   "source": [
    "logit01 = LogisticRegression(C=.01, random_state=123)\n",
    "logit01.fit(x_train3, y_train3)"
   ]
  },
  {
   "cell_type": "code",
   "execution_count": 246,
   "id": "65c1ac28-6950-45b0-9f09-6231d35732d8",
   "metadata": {
    "tags": []
   },
   "outputs": [
    {
     "data": {
      "text/plain": [
       "0.6872659176029963"
      ]
     },
     "execution_count": 246,
     "metadata": {},
     "output_type": "execute_result"
    }
   ],
   "source": [
    "logit01.score(x_train3, y_train3)"
   ]
  },
  {
   "cell_type": "code",
   "execution_count": 255,
   "id": "d3cac2e7-4abc-4e90-8eb1-65ca9437b095",
   "metadata": {
    "tags": []
   },
   "outputs": [
    {
     "name": "stdout",
     "output_type": "stream",
     "text": [
      "{'C=': 0.01, 'Train accuracy ': 0.6872659176029963, 'Validation accuracy ': 0.7303370786516854, 'Difference score ': -0.04307116104868913}\n",
      "{'C=': 0.1, 'Train accuracy ': 0.7696629213483146, 'Validation accuracy ': 0.7696629213483146, 'Difference score ': 0.0}\n",
      "{'C=': 1, 'Train accuracy ': 0.7921348314606742, 'Validation accuracy ': 0.7752808988764045, 'Difference score ': 0.016853932584269704}\n",
      "{'C=': 10, 'Train accuracy ': 0.7921348314606742, 'Validation accuracy ': 0.7752808988764045, 'Difference score ': 0.016853932584269704}\n",
      "{'C=': 100, 'Train accuracy ': 0.7921348314606742, 'Validation accuracy ': 0.7752808988764045, 'Difference score ': 0.016853932584269704}\n",
      "{'C=': 1000, 'Train accuracy ': 0.7921348314606742, 'Validation accuracy ': 0.7752808988764045, 'Difference score ': 0.016853932584269704}\n"
     ]
    }
   ],
   "source": [
    "lst = [.01, .1, 1, 10, 100, 1000]\n",
    "\n",
    "for i in lst:\n",
    "    logit = LogisticRegression(C=i, random_state=123)\n",
    "    logit.fit(x_train3, y_train3)\n",
    "    dct = {\n",
    "    \"C=\": i,\n",
    "    \"Train accuracy \": logit.score(x_train3, y_train3),\n",
    "    \"Validation accuracy \": logit.score(x_validate3, y_validate3),\n",
    "    \"Difference score \": logit.score(x_train3, y_train3) - logit.score(x_validate3, y_validate3)\n",
    "    }\n",
    "    print(dct)"
   ]
  },
  {
   "cell_type": "code",
   "execution_count": null,
   "id": "82d23321-b1a3-4644-b489-009d4c009ea8",
   "metadata": {},
   "outputs": [],
   "source": [
    "logit01 = LogisticRegression(C=.01, random_state=123)\n",
    "logit01.fit(x_train3, y_train3)"
   ]
  }
 ],
 "metadata": {
  "kernelspec": {
   "display_name": "Python 3 (ipykernel)",
   "language": "python",
   "name": "python3"
  },
  "language_info": {
   "codemirror_mode": {
    "name": "ipython",
    "version": 3
   },
   "file_extension": ".py",
   "mimetype": "text/x-python",
   "name": "python",
   "nbconvert_exporter": "python",
   "pygments_lexer": "ipython3",
   "version": "3.9.13"
  }
 },
 "nbformat": 4,
 "nbformat_minor": 5
}
